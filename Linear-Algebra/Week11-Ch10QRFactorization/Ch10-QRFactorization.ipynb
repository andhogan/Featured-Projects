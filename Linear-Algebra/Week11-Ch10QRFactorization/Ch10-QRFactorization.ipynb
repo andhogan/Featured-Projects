{
 "cells": [
  {
   "cell_type": "markdown",
   "id": "97bd9ea0-dada-4eb6-8422-8218e1f84e8a",
   "metadata": {},
   "source": [
    "# Chapter 10: Matrix Multiplication\n",
    "\n",
    "## 10.4 QR Factorization\n",
    "\n",
    "Recall the Gram-Schmidt Algorithm from Chapter 5.4:\n",
    "* If the collection of column vectors is linearly independent, the algorithm produces an orthonormal collection of vectors.\n",
    "* Each column vector *ai* is a linear combination of the orthonormal vectors *q1 ... qi*\n",
    "* Each othonormal vector *qi* is a linear combination of the original collection vectors *a1 ... ai*\n",
    "\n",
    "The following is the algorithm derived from the Python Companion 5.4:"
   ]
  },
  {
   "cell_type": "code",
   "execution_count": 1,
   "id": "331190cf-afad-4169-88c8-53b40ed0becf",
   "metadata": {},
   "outputs": [],
   "source": [
    "# Gram Schmidt Algorithm\n",
    "\n",
    "import numpy as np\n",
    "def gram_schmidt(a):\n",
    "    q = []\n",
    "    for i in range(len(a)):\n",
    "        #orthogonalization\n",
    "        q_tilde = a[i]\n",
    "        for j in range(len(q)):\n",
    "            q_tilde = q_tilde - (q[j] @ a[i])*q[j]\n",
    "        #Test for dependence\n",
    "        if np.sqrt(sum(q_tilde**2)) <= 1e-10:\n",
    "            print('Vectors are linearly dependent.')\n",
    "            print('GS algorithm terminates at iteration ', i+1)\n",
    "            return q\n",
    "        #Normalization\n",
    "        else:\n",
    "            q_tilde = q_tilde / np.sqrt(sum(q_tilde**2))\n",
    "            q.append(q_tilde)\n",
    "    print('Vectors are linearly independent.')\n",
    "    return q"
   ]
  },
  {
   "cell_type": "code",
   "execution_count": 3,
   "id": "22dd6677-475c-45d4-92e0-45b326a2dc3b",
   "metadata": {},
   "outputs": [
    {
     "name": "stdout",
     "output_type": "stream",
     "text": [
      "Vectors are linearly independent.\n",
      "[array([1., 0., 0.]), array([0., 0., 1.]), array([0., 1., 0.])]\n"
     ]
    }
   ],
   "source": [
    "A = np.array( [ [1, 0, 0,] , [2, 0, 3], [4, 5, 6] ] )\n",
    "q = gram_schmidt(A)\n",
    "print(q)"
   ]
  },
  {
   "cell_type": "markdown",
   "id": "9c15c679-7a6f-4ae2-951b-1723947f1aac",
   "metadata": {},
   "source": [
    "##### How are the Gram-Schmidt Algorithm and QR Factorization related?\n",
    "\n",
    "We can define the QR factorization function using the Gram-Schmidt algorithm:"
   ]
  },
  {
   "cell_type": "code",
   "execution_count": 4,
   "id": "85e113f6-c51d-470b-bf27-877672eed838",
   "metadata": {},
   "outputs": [],
   "source": [
    "def QR_factorization(A): \n",
    "    Q = np.array(gram_schmidt(A)) \n",
    "    R = Q @ A\n",
    "    return Q, R"
   ]
  },
  {
   "cell_type": "markdown",
   "id": "5300c01b-f9c6-43bf-b330-e29b29524a87",
   "metadata": {},
   "source": [
    "The matrix Q is the same collection of orthonormal vectors the GS-Algorithm would find for a collection of linearly independent vectors. After all, these \"collections\" are merely matrices themselves: Vectors are matrices."
   ]
  },
  {
   "cell_type": "code",
   "execution_count": 5,
   "id": "7c72e72b-ba0e-461e-8e75-c6ec21bacee7",
   "metadata": {},
   "outputs": [
    {
     "name": "stdout",
     "output_type": "stream",
     "text": [
      "Vectors are linearly independent.\n",
      "Q\n",
      "[[1. 0. 0.]\n",
      " [0. 0. 1.]\n",
      " [0. 1. 0.]]\n",
      "R\n",
      "[[1. 0. 0.]\n",
      " [4. 5. 6.]\n",
      " [2. 0. 3.]]\n",
      "[[1. 0. 0.]\n",
      " [2. 0. 3.]\n",
      " [4. 5. 6.]]\n",
      "[[ True  True  True]\n",
      " [ True  True  True]\n",
      " [ True  True  True]]\n"
     ]
    }
   ],
   "source": [
    "Q, R = QR_factorization(A)\n",
    "print('Q')\n",
    "print(Q)\n",
    "print('R')\n",
    "print(R)\n",
    "\n",
    "print(Q@R)\n",
    "print(A==Q@R)"
   ]
  },
  {
   "cell_type": "markdown",
   "id": "54fd57e4-90f9-4f8a-a06f-9e31eac3c84c",
   "metadata": {},
   "source": [
    "The attributes of the matrices of Q and R come directly from the Gram-Schmidt Algorithm (VMLS p. 190). A is expressed as the product of a matrix Q of orthonormal columns and a matrix R, an upper triangular representation of A. "
   ]
  },
  {
   "cell_type": "markdown",
   "id": "bfdfa99b-a5f6-4bd3-a50c-487b9243bec0",
   "metadata": {},
   "source": [
    "##### How are the Gram Matrix and QR Factorization related?\n",
    "\n",
    "QR Factorization is an application of Gram matrices whose columns are orthonormal. The Gram Matrix is defined as the inner product of a matrix with itself:\n",
    "$G = A^{T}A$"
   ]
  },
  {
   "cell_type": "code",
   "execution_count": 6,
   "id": "0a6abfef-594b-4665-ac2a-f158c198dc22",
   "metadata": {},
   "outputs": [
    {
     "name": "stdout",
     "output_type": "stream",
     "text": [
      "Array A:\n",
      "[[1 0 0]\n",
      " [2 0 3]\n",
      " [4 5 6]] \n",
      "\n",
      "Array A.T:\n",
      "[[1 2 4]\n",
      " [0 0 5]\n",
      " [0 3 6]] \n",
      "\n",
      "Gram Matrix, G:\n",
      "[[21 20 30]\n",
      " [20 25 30]\n",
      " [30 30 45]]\n"
     ]
    }
   ],
   "source": [
    "print('Array A:')\n",
    "print(A, '\\n')\n",
    "print('Array A.T:')\n",
    "print(A.T, '\\n')\n",
    "\n",
    "G1 = A.T@A\n",
    "\n",
    "print('Gram Matrix, G:')\n",
    "print(G1)"
   ]
  },
  {
   "cell_type": "markdown",
   "id": "16313c91-ef3b-43d4-a3aa-d5c0fe916e0f",
   "metadata": {},
   "source": [
    "Inserting the QR factorization of A into the equation for the Gram Matrix, we have:\n",
    "\n",
    "$G = (QR)^{T}QR$\n",
    "\n",
    "Expanding on this equation further with properties of matrices, we can deduce a new identity:\n",
    "\n",
    "$G = (R^{T})(Q^{T})QR = R^{T}(Q^{T}Q)R = R^{T}IR = R^{T}R$\n",
    "\n",
    "This shows that the gram matrix of the original matrix A is equal to the gram matrix of its upper right triangular matrix R."
   ]
  },
  {
   "cell_type": "code",
   "execution_count": 7,
   "id": "2a436e46-9db4-465b-8a4d-be5b44a9e1da",
   "metadata": {},
   "outputs": [
    {
     "name": "stdout",
     "output_type": "stream",
     "text": [
      "[[21. 20. 30.]\n",
      " [20. 25. 30.]\n",
      " [30. 30. 45.]] \n",
      "\n",
      "[[ True  True  True]\n",
      " [ True  True  True]\n",
      " [ True  True  True]]\n"
     ]
    }
   ],
   "source": [
    "G2 = R.T@R\n",
    "print(G2, '\\n')\n",
    "\n",
    "print(G1==G2)"
   ]
  },
  {
   "cell_type": "markdown",
   "id": "01a939e5-8a9c-41e5-9f0b-7b80afa97674",
   "metadata": {},
   "source": [
    "## Potential Discussion Questions\n",
    "\n",
    "* The example worked out above is very clean in the sense that our orthogonal matrix Q essentially resembles unit vectors. However, this is generally a rarer case. It's not uncommon to have a matrix Q of decimal values that still consist of orthogonal values. Remembering the qualities that make orthogonal vectors, it can help to show yourself that Q consists of orthonormal columns. How does this influence the identity of R?\n",
    "\n",
    "* The authors make mention that the GS-Algorithm designed in 5.4 finds the linear dependency of the *rows* while QR factorization seeks the linear dependency of the *columns*. So we insert the transpose into the QR Factorization to account for this instead. How does this influence the readability of our results? Are there any ways you could improve either algorithm to resolve this issue?\n",
    "\n"
   ]
  },
  {
   "cell_type": "code",
   "execution_count": 8,
   "id": "6dc11e3a-2b1b-44f1-80a9-045c9c7ea385",
   "metadata": {},
   "outputs": [
    {
     "name": "stdout",
     "output_type": "stream",
     "text": [
      "[[2 3]\n",
      " [6 8]]\n",
      "Vectors are linearly independent.\n",
      "[array([0.5547002 , 0.83205029]), array([ 0.83205029, -0.5547002 ])]\n"
     ]
    }
   ],
   "source": [
    "B = np.array( [ [2, 3] , [6, 8] ] )\n",
    "print(B)\n",
    "q = gram_schmidt(B)\n",
    "print(q)"
   ]
  },
  {
   "cell_type": "code",
   "execution_count": 10,
   "id": "36450e43-6096-4ab0-9c4b-c265369dbe2d",
   "metadata": {},
   "outputs": [
    {
     "name": "stdout",
     "output_type": "stream",
     "text": [
      "Vectors are linearly independent.\n",
      "Q\n",
      "[[ 0.5547002   0.83205029]\n",
      " [ 0.83205029 -0.5547002 ]]\n",
      "R\n",
      "[[ 6.10170216  8.32050294]\n",
      " [-1.66410059 -1.94145069]]\n"
     ]
    }
   ],
   "source": [
    "Q, R = QR_factorization(B)\n",
    "print('Q')\n",
    "print(Q)\n",
    "print('R')\n",
    "print(R)"
   ]
  },
  {
   "cell_type": "code",
   "execution_count": null,
   "id": "a54e4fb1-f6dd-4b89-a512-c7a6b2f7ddc0",
   "metadata": {},
   "outputs": [],
   "source": []
  }
 ],
 "metadata": {
  "kernelspec": {
   "display_name": "Python 3 (ipykernel)",
   "language": "python",
   "name": "python3"
  },
  "language_info": {
   "codemirror_mode": {
    "name": "ipython",
    "version": 3
   },
   "file_extension": ".py",
   "mimetype": "text/x-python",
   "name": "python",
   "nbconvert_exporter": "python",
   "pygments_lexer": "ipython3",
   "version": "3.10.5"
  }
 },
 "nbformat": 4,
 "nbformat_minor": 5
}
