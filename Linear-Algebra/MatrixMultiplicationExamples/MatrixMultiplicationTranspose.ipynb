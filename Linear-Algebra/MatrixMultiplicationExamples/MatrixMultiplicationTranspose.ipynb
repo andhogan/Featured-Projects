{
 "cells": [
  {
   "cell_type": "markdown",
   "id": "0ae3e17b-3f0e-48d1-8a71-3ffc40ba75ab",
   "metadata": {},
   "source": [
    "## Matrix-Vector/Matrix Multiplication (Ch6.4, Ch10)\n",
    "\n",
    "When multiplying a Matrix and a Vector together, you should be thinking about this as simply Matrix-Matrix multiplication. After all, vectors and matrices are one in the same: you may have noticed by now that $n$-vectors are merely $n \\times 1$ matrices! This should simplify much of how we think about resultant matrix outputs.\n",
    "\n",
    "We've read that matrix multiplication *is not commutative*. This is because the dimensions of both matrices determine the dimensions of the output matrix. As you've read, to multiply two matrices together, the inner dimensions must match. In other words:\n",
    "\n",
    "A matrix, $A$, with dimensions $m \\times p$ can only be multiplied by another matrix, $B$, with dimensions $p \\times n$. Again, in other words: *The first matrix must have the same number of columns as rows of the second matrix*.\n",
    "\n",
    "Take the expression $y = Ax$.\n",
    "\n",
    "* $A$ is an ($m \\times n$) matrix.\n",
    "\n",
    "* $x$ is an $n$-vector, or an $n \\times 1$ matrix.\n",
    "\n",
    "We can now see this as a legal operation: We are multiplying an $m \\times n$ matrix with an $n \\times 1$ matrix:\n",
    "\n",
    "$m \\times (n * n) \\times 1$ --> inner dimensions are equal, and we will output a matrix with the outer dimensions.\n",
    "\n",
    "The output, $y$, is an $m \\times 1$ matrix, or an $m$-vector."
   ]
  },
  {
   "cell_type": "code",
   "execution_count": 3,
   "id": "e9c33295-be75-4e78-b237-d1fe657d5ddd",
   "metadata": {},
   "outputs": [
    {
     "name": "stdout",
     "output_type": "stream",
     "text": [
      "Multiplying Ax:\n",
      "A =\n",
      "[[1 2]\n",
      " [3 4]\n",
      " [5 6]]\n",
      "x =\n",
      "[2 3]\n",
      "y = A @ x = [ 8 18 28]\n"
     ]
    }
   ],
   "source": [
    "import numpy as np\n",
    "A = np.array([[1,2],[3,4], [5, 6]])\n",
    "x = np.array([2, 3])\n",
    "\n",
    "print('Multiplying Ax:')\n",
    "print('A =')\n",
    "print(A)\n",
    "print('x =')\n",
    "print(x)\n",
    "print('y = A @ x =', A@x)\n",
    "\n",
    "## Causes a value error. We are attempting to multiply (n x 1) * (m x n). \n",
    "## The inner dimensions do not match. This operation is illegal!\n",
    "# print(x @ A) "
   ]
  },
  {
   "cell_type": "markdown",
   "id": "15832e7f-aeaf-42d9-a6a4-1e1673f5ca8a",
   "metadata": {},
   "source": [
    "## Visualizing the Transpose\n",
    "\n",
    "Transposing is an operation performed on matrices to invert its entries. Each entry $A_{ij}$ equals $A^{T}_{ji}$. \n",
    "\n",
    "In the grand scheme, rows become columns, columns become rows:\n",
    "* First row becomes the first column in the transpose\n",
    "* Second row becomes the second column in the transpose\n",
    "* And so on...\n",
    "Notice that **diagonal entries stay the same**."
   ]
  },
  {
   "cell_type": "code",
   "execution_count": 12,
   "id": "3975a716-733d-4f92-8785-418f078f5f66",
   "metadata": {},
   "outputs": [
    {
     "name": "stdout",
     "output_type": "stream",
     "text": [
      "T =\n",
      "[[  1  10 100]\n",
      " [  2  20 200]\n",
      " [  3  30 300]] \n",
      "\n",
      "T^T =\n",
      "[[  1   2   3]\n",
      " [ 10  20  30]\n",
      " [100 200 300]]\n",
      "\n",
      "Diagonal Entries are the same:\n",
      "T[0][0] == T_t[0][0]\n",
      "True\n",
      "T[1][1] == T_t[1][1]\n",
      "True\n"
     ]
    }
   ],
   "source": [
    "T = np.array( [ [1, 10, 100],[2, 20, 200], [3, 30, 300] ] )\n",
    "print('T =')\n",
    "print(T, '\\n')\n",
    "\n",
    "T_t = T.T\n",
    "print('T^T =')\n",
    "print(T_transpose)\n",
    "\n",
    "# Diagonal Entries are the same:\n",
    "print('\\nDiagonal Entries are the same:')\n",
    "print('T[0][0] == T_t[0][0]')\n",
    "print(T[0][0] == T_t[0][0])\n",
    "print('T[1][1] == T_t[1][1]')\n",
    "print(T[1][1] == T_t[1][1])"
   ]
  },
  {
   "cell_type": "markdown",
   "id": "30109855-010c-445d-95c3-30fa1c844196",
   "metadata": {},
   "source": [
    "Several operations work as a result of transposition because the dimensions of a matrix are reversed: an $m \\times n$ matrix transposed becomes an $n \\times m$ matrix.\n",
    "\n",
    "If $A$ is an $m \\times n$ matrix, its transpose, $A^{T}$ is an $n \\times m$ matrix. Finding the inner product of the matrix $A$ is then as simple as multiplying its transpose with itself: $A^{T}A$\n",
    "\n",
    "Before this, you've been transposing vectors without much thought as to what the $^{T}$ signified. Perhaps now the transpose of vectors makes even clearer sense. All you do when you transpose an $n$-vector is transform this column vector, which we know is an $n \\times 1$ vector, into a $1 \\times n$ row vector!\n",
    "\n",
    "As a note, keep in mind that Python outputs row and column vectors the same way. Visually, they appear to represent the same thing, but the syntax and context is important to keep in mind."
   ]
  },
  {
   "cell_type": "code",
   "execution_count": 16,
   "id": "cf7d57da-5950-4425-99d9-24fa78bcd3e0",
   "metadata": {},
   "outputs": [
    {
     "name": "stdout",
     "output_type": "stream",
     "text": [
      "n =\n",
      "[1 3]\n",
      "n_t =\n",
      "[1 3] \n",
      "\n",
      "Inner Product = n^t*n =\n",
      "10\n"
     ]
    }
   ],
   "source": [
    "n = np.array([1, 3])\n",
    "n_t = n.T\n",
    "\n",
    "print('n =')\n",
    "print(n)\n",
    "print('n_t =')\n",
    "print(n_t, '\\n')\n",
    "\n",
    "print('Inner Product = n^t*n =')\n",
    "print(np.inner(n, n_t))"
   ]
  },
  {
   "cell_type": "code",
   "execution_count": null,
   "id": "703f1c25-608a-444a-b00a-1b099708f4ec",
   "metadata": {},
   "outputs": [],
   "source": []
  }
 ],
 "metadata": {
  "kernelspec": {
   "display_name": "Python 3 (ipykernel)",
   "language": "python",
   "name": "python3"
  },
  "language_info": {
   "codemirror_mode": {
    "name": "ipython",
    "version": 3
   },
   "file_extension": ".py",
   "mimetype": "text/x-python",
   "name": "python",
   "nbconvert_exporter": "python",
   "pygments_lexer": "ipython3",
   "version": "3.10.5"
  }
 },
 "nbformat": 4,
 "nbformat_minor": 5
}
