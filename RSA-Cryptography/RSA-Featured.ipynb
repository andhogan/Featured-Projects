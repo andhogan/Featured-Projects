{
 "cells": [
  {
   "cell_type": "markdown",
   "metadata": {},
   "source": [
    "## RSA Cryptography"
   ]
  },
  {
   "cell_type": "markdown",
   "metadata": {},
   "source": [
    "Name:  STEPHEN ANDREW HOGAN"
   ]
  },
  {
   "cell_type": "markdown",
   "metadata": {},
   "source": [
    "<hr />\n",
    "\n",
    "# Table of Contents\n",
    "\n",
    "### 1. Introduction\n",
    "\n",
    "### 2. RSA Code Package\n",
    "###### &nbsp;&nbsp;&nbsp;&nbsp;&nbsp;&nbsp; 2.1 Basic tool set\n",
    "###### &nbsp;&nbsp;&nbsp;&nbsp;&nbsp;&nbsp; 2.2 First tool set\n",
    "###### &nbsp;&nbsp;&nbsp;&nbsp;&nbsp;&nbsp; 2.3 Second tool set\n",
    "\n",
    "### 3. RSA More Code\n",
    "\n",
    "###### &nbsp;&nbsp;&nbsp;&nbsp;&nbsp;&nbsp;  Encode\n",
    "###### &nbsp;&nbsp;&nbsp;&nbsp;&nbsp;&nbsp;  Decode\n",
    "\n",
    "### 4. Demo of encoding and decoding a message\n",
    "\n",
    "### 5. Project Narrative AND results of exchanging codes with others.\n",
    "\n",
    "### 6. Testing and comparing FME to mod.\n",
    "\n",
    "### 7. Breaking codes without a private key\n",
    "\n",
    "### 8. Advanced options\n",
    "\n",
    "\n",
    "\n",
    "\n",
    "\n",
    "\n",
    "\n",
    "\n"
   ]
  },
  {
   "cell_type": "markdown",
   "metadata": {},
   "source": []
  },
  {
   "cell_type": "markdown",
   "metadata": {},
   "source": []
  },
  {
   "cell_type": "markdown",
   "metadata": {},
   "source": []
  },
  {
   "cell_type": "markdown",
   "metadata": {},
   "source": [
    "\n",
    "\n",
    "\n",
    "\n",
    "\n",
    "\n",
    "### 1. Introduction to your RSA Package and Project.  Give an overview of your project and what you have learned. "
   ]
  },
  {
   "cell_type": "markdown",
   "metadata": {},
   "source": [
    "RSA is a method for exchanging information between two parties without any potential third party intercepting and stealing the exchanged information. RSA maintains this security by taking a message and encrypting it via a series of FME calculations that hide the message behind encryption values. These messages are then able to be transferred securely between the desired parties without unwanted interruption or theft of this information. \n",
    "\n",
    "For RSA to work, it makes use of several algorithms that increase the efficiency of the program as well as makes use of number theory concepts on the way to achieving our resulting encrypted messages. RSA encryption requires the use of a particular encryption key, *e*, that is selected with prior understanding of particular number theories of modular arithmetic, including prime relativity, the Euclidean Algorithm, Bezout's Theorem, Fermat's Little Theorem, the Chinese Remainder Theorem, and Fast Modular Exponentiation. After publishing my public encryption key, *e*, and a modulus, *n*, consisting of two prime factors, *p* and *q*, others may encode a message in the form *M^e mod n*, where each character *M* is converted to a numeric code in ASCII that is then passed through this function and converted to an encrypted value. After receiving these encrypted messages, I possess a decryption key, *d*, that will invert the original function, returning the original message.\n",
    "\n",
    "For my project, I show a fun way for exchanging messages between classmates by providing my public key to others to encrypt messages for me to read, where I then reverse this process using a decryption key, the inverse of the encryption function, to read the messages sent to me. I also incorporate a main function displaying a user interface for a user to easily navigate the process of encryption, including extra tools for flexibility. (i.e. instead of just following the steps 1 -> 2-> 3 -> 4 -> 5, I offer manual entry and resetting of keys to allow for the user to simply encode and decode if they wish)"
   ]
  },
  {
   "cell_type": "markdown",
   "metadata": {},
   "source": [
    "### 2.1\n",
    "#### Basic tool set\n",
    "\n",
    "These are functions that you'll need to pre-process the messages before the messages are encoded and decoded by the RSA algorithm. That is the reason we will be defining them first.\n",
    "\n"
   ]
  },
  {
   "cell_type": "code",
   "execution_count": 1,
   "metadata": {},
   "outputs": [
    {
     "name": "stdout",
     "output_type": "stream",
     "text": [
      "[104, 101, 108, 108, 111]\n"
     ]
    }
   ],
   "source": [
    "def Convert_Text(_string):\n",
    "    \"\"\"\n",
    "    Define this function such that it takes in a simple \n",
    "    string such as \"hello\" and outputs the corresponding\n",
    "    standard list of integers (ascii) for each letter in the word hello.\n",
    "    For example:\n",
    "    _string = hello\n",
    "    integer_list = [104, 101, 108, 108, 111]\n",
    "    \"\"\"\n",
    "    integer_list = []\n",
    "    for character in _string:\n",
    "        integer_list.append(ord(character)) \n",
    "        # ord('s') method returns Unicode/ASCII code of the passed string.\n",
    "        # however, it only accepts strings of length '1'/a single character, making it the perfect tool to use for iterating through strings.\n",
    "        # The for loop allows us to iterate over each character in the string.\n",
    "        # Then we append each character's UNICODE value to the integer list as it is converted.\n",
    "    \n",
    "    return integer_list\n",
    "\n",
    "print(Convert_Text(\"hello\"))"
   ]
  },
  {
   "cell_type": "code",
   "execution_count": 2,
   "metadata": {},
   "outputs": [
    {
     "name": "stdout",
     "output_type": "stream",
     "text": [
      "hello\n"
     ]
    }
   ],
   "source": [
    "def Convert_Num(_list):\n",
    "    \"\"\"\n",
    "    Do the opposite of what you did in the Convert_Text\n",
    "    function defined above.\n",
    "    \n",
    "    Define this function such that it takes in a list of integers\n",
    "    and outputs the corresponding string (ascii).\n",
    "    \n",
    "    For example:\n",
    "    _list = [104, 101, 108, 108, 111]\n",
    "    _string = hello\n",
    "    \"\"\"\n",
    "    _string = ''\n",
    "    for i in _list:\n",
    "        _string += chr(i) \n",
    "        # chr() method accepts an integer respective of UNICODE and returns a corresponding character (a string). \n",
    "        # The opposite of ord() method.\n",
    "    return _string\n",
    "\n",
    "print(Convert_Num([104, 101, 108, 108, 111]))"
   ]
  },
  {
   "cell_type": "code",
   "execution_count": 3,
   "metadata": {},
   "outputs": [
    {
     "name": "stdout",
     "output_type": "stream",
     "text": [
      "101011001\n",
      "100110101\n"
     ]
    }
   ],
   "source": [
    "def Convert_Binary_String(_int):\n",
    "    \"\"\"\n",
    "    A function that converts an integer to\n",
    "    a string of its binary expansion.\n",
    "    \n",
    "    For example:\n",
    "    _int = 345\n",
    "    bits = 101011001\n",
    "    \"\"\"\n",
    "    n = _int\n",
    "    bits = ''\n",
    "    while n > 0:\n",
    "        k = n % 2  # this calculates the rightmost bit\n",
    "        n = n // 2 # this brings n down to zero as we proceed through the loops, // indicates integer division and rounds down, a type of floor function\n",
    "        bits = str(k) + bits # Since we calculate the rightmost bit first through each loop, we want to insert it at the front.\n",
    "    \n",
    "    return bits # we are returning bits as a STRING here\n",
    "\n",
    "print(Convert_Binary_String(345))\n",
    "print(Convert_Binary_String(345)[::-1])"
   ]
  },
  {
   "cell_type": "markdown",
   "metadata": {},
   "source": [
    "Now that you're done with the basic toolset we'll move on to the first tool set which is actually involved in the RSA system."
   ]
  },
  {
   "cell_type": "markdown",
   "metadata": {},
   "source": [
    "### 2.2 \n",
    "#### First tool set.\n",
    "\n"
   ]
  },
  {
   "cell_type": "code",
   "execution_count": 4,
   "metadata": {},
   "outputs": [
    {
     "name": "stdout",
     "output_type": "stream",
     "text": [
      "436\n"
     ]
    }
   ],
   "source": [
    "def FME(b, n, m): # b: integer, n: exponent, m: modulus\n",
    "    \"\"\"\n",
    "    1. Using the fast modular exponentiation algorithm,\n",
    "    the below function should return b**n mod m.\n",
    "    2. Use the function defined above: Convert_Binary_String()\n",
    "    3. Use this string to test which components are used in the calculation.\n",
    "\n",
    "    \"\"\"  \n",
    "    x = 1 # Houses the total modulations, and is the total value that will be returned\n",
    "    p = b % m # start with the initial base. This is symbolic of base**0\n",
    "    bin_n = Convert_Binary_String(n) # convert the exponent n to a binary string for iteration\n",
    "    for i in bin_n[::-1]: # we only run through the length of the bin, we are comfortable leaving it as a string here\n",
    "                          # it's also easier to reverse the string so that we begin with the rightmost digit on the left.\n",
    "        if i == '1':      # checks to see if the bit is 'on'/1. If so, we multiply our modular exponentiation to x\n",
    "            \n",
    "            \n",
    "            x = (x*p) % m # multiply this mod to our result\n",
    "        p = (p*p)%m       # regardless of 1 or 0, we are iterating through the digits and adjust our base as we go along.\n",
    "                          # This is the magic piece of FME, as we calculate each b, b**2 ... b**(2**j) onward for as many iterations as there are digits in the binary exponent.\n",
    "            \n",
    "    return x # return (b**n mod m)\n",
    "\n",
    "print(FME(7, 644, 645))\n",
    "                \n",
    "    "
   ]
  },
  {
   "cell_type": "code",
   "execution_count": 5,
   "metadata": {},
   "outputs": [
    {
     "name": "stdout",
     "output_type": "stream",
     "text": [
      "36\n"
     ]
    }
   ],
   "source": [
    "def FakeFME(b, n, m):\n",
    "    return (b**n) % m\n",
    "\n",
    "print(FakeFME(3, 644, 645))"
   ]
  },
  {
   "cell_type": "code",
   "execution_count": 6,
   "metadata": {},
   "outputs": [
    {
     "name": "stdout",
     "output_type": "stream",
     "text": [
      "36\n"
     ]
    }
   ],
   "source": [
    "def POW_FME(b, n, m):\n",
    "    return pow(b, n, m)\n",
    "\n",
    "print(POW_FME(3, 644, 645))"
   ]
  },
  {
   "cell_type": "code",
   "execution_count": 7,
   "metadata": {},
   "outputs": [
    {
     "name": "stdout",
     "output_type": "stream",
     "text": [
      "1\n",
      "18\n",
      "10\n",
      "10\n"
     ]
    }
   ],
   "source": [
    "def Euclidean_Alg(a, b):\n",
    "    \"\"\"\n",
    "    1. Calculate the Greatest Common Divisor of a and b.\n",
    "    \n",
    "    2. Unless b==0, the result will have the same sign as b (so that when\n",
    "    b is divided by it, the result comes out positive).\n",
    "    The function must return a single integer 'x' which is the gcd of a and b.\n",
    "    \"\"\"\n",
    "    \n",
    "    m = max(abs(a), abs(b)) # takes the larger of the two numbers and assigns it\n",
    "    n = min(abs(a), abs(b)) # takes the smaller\n",
    "        # These two variables keep the algorithm moving in a downward direction towards the base case.\n",
    "        # By definition, GCD is a positive integer. We ensure a and b are positive by making them absolute values.\n",
    "        # Depending on user input, we don't want the smaller number modded by the larger. To keep things organized, we set the maximum value of the two to m, and the other to n.\n",
    "            \n",
    "    if n == 0:    # We cannot modulo by 0. But if this ever occurs, we should have our GCD.\n",
    "        return abs(m)  # this is the GCD of a and b, since we are returning the other variable that is not 0.\n",
    "    r = m % n\n",
    "    \n",
    "    return Euclidean_Alg(n, r) # n should be larger than our remainder. r is \"the new jug\"\n",
    "\n",
    "print(Euclidean_Alg(224, 47))\n",
    "print(Euclidean_Alg(36, -18))\n",
    "print(Euclidean_Alg(100, 10))\n",
    "print(Euclidean_Alg(10, 100))\n"
   ]
  },
  {
   "cell_type": "code",
   "execution_count": 8,
   "metadata": {},
   "outputs": [],
   "source": [
    "def EEA(a, b):\n",
    "    m = max(abs(a), abs(b)) # takes the larger of the two numbers and assigns it\n",
    "    n = min(abs(a), abs(b)) # takes the smaller\n",
    "                            # By definition, GCD is a positive integer. We ensure a and b are positive by making them absolute values.\n",
    "                            # Depending on user input, we don't want the smaller number modded by the larger. To keep things organized, we set the maximum value of the two to m, and the other to n.\n",
    "                            # this time, we're going to keep track of the initial values of these two\n",
    "        \n",
    "    m0, n0 = m, n # these values keep track of our initial m and n, since we will be expressing the GCD in terms of these two\n",
    "    # Bezout's theorem: GCD = s*m + t*n\n",
    "    s1, t1 = 1, 0\n",
    "    s2, t2 = 0, 1 # these initialize our Bezout coefficients\n",
    "                  # m' = s1*m0 + t1*n0 = 1*m0 + 0*n0\n",
    "                  # n' = s2*m0 + t2*n0 = 0*m0 + 1*n0\n",
    "    while n > 0:\n",
    "        k = m % n # the remainder, becomes the new n after the iteration is complete\n",
    "        q = m // n # the quotient, used to calculate the next Bezout coefficients in the series\n",
    "        \n",
    "        m = n \n",
    "        n = k\n",
    "        \n",
    "        s1_hat, t1_hat = s2, t2                    # 's1_hat, t1_hat are placeholders/pointers for the old s2, t2 values before they are changed'\n",
    "        s2_hat, t2_hat = (s1 - q*s2), (t1 - q*t2)  # 's2_hat, t2_hat acquire the new calculated values and holds them'\n",
    "        s1, t1 = s1_hat, t1_hat                    # 's1, t1 acquires s2, t2 via s1_hat, t1_hat'\n",
    "        s2, t2 = s2_hat, t2_hat                    # 's2, t2 are assigned s2_hat, t2_hat, readying them for the next iteration'\n",
    "        \n",
    "    return m, (s1, t1) # After the loop is complete, n = 0, and m will be the GCD in lowest terms\n",
    "                       # s1 and t1 will also be in terms that when multiplied with their respective integers will yield the GCD.\n",
    "                       # When using this algorithm, it's important to know that s1 corresponds to the Bezout coefficient of the LARGER INTEGER, and vice versa for t1 to the SMALLER\n",
    "        \n",
    "    \n",
    "    "
   ]
  },
  {
   "cell_type": "code",
   "execution_count": 9,
   "metadata": {},
   "outputs": [
    {
     "name": "stdout",
     "output_type": "stream",
     "text": [
      "To begin: a, b = 77, 14 | (s1,t1) = (1,0) | (s2,t2) = (0,1)\n",
      "_________________________________\n",
      "Loop: 1\n",
      "Our remainder, k = a % b = 77 % 14 = 7\n",
      "Our quotient , q =a // b =77 // 14 = 5\n",
      "Our new a, b = 14, 7\n",
      "s1_hat, t1_hat are placeholders/pointers for the old s2, t2 values before they are changed\n",
      "s1_hat, t1_hat = (s2, t2) = (0, 1)\n",
      "\n",
      "s2_hat, t2_hat acquire the new calculated values and holds them\n",
      "s2_hat, t2_hat = (s1 - q*s2), (t1 - q*t2) = (1, -5)\n",
      "\n",
      "s1, t1 acquires s2, t2\n",
      "s1, t1 = (s1_hat, t1_hat) = (0, 1)\n",
      "\n",
      "s2, t2 are assigned s2_hat, t2_hat, readying them for the next iteration\n",
      "s2, t2 = (s2_hat, t2_hat) = (1, -5)\n",
      "\n",
      "-----------------------------\n",
      "Loop: 2\n",
      "Our remainder, k = a % b = 14 % 7 = 0\n",
      "Our quotient , q =a // b =14 // 7 = 2\n",
      "Our new a, b = 7, 0\n",
      "s1_hat, t1_hat are placeholders/pointers for the old s2, t2 values before they are changed\n",
      "s1_hat, t1_hat = (s2, t2) = (1, -5)\n",
      "\n",
      "s2_hat, t2_hat acquire the new calculated values and holds them\n",
      "s2_hat, t2_hat = (s1 - q*s2), (t1 - q*t2) = (-2, 11)\n",
      "\n",
      "s1, t1 acquires s2, t2\n",
      "s1, t1 = (s1_hat, t1_hat) = (1, -5)\n",
      "\n",
      "s2, t2 are assigned s2_hat, t2_hat, readying them for the next iteration\n",
      "s2, t2 = (s2_hat, t2_hat) = (-2, 11)\n",
      "\n",
      "-----------------------------\n",
      "GCD(77,14) = 7, Bezout Coefficients: s1, t1 = (1,-5)\n",
      "The Bezout Theorem for our GCD can be written as:\n",
      "7 = 1 * 77 + -5 * 14\n",
      "(7, (1, -5))\n"
     ]
    }
   ],
   "source": [
    "def EEA_debug(a, b):\n",
    "    m = max(abs(a), abs(b)) # takes the larger of the two numbers and assigns it\n",
    "    n = min(abs(a), abs(b)) # takes the smaller\n",
    "                            # this time, we're going to keep track of the initial values of these two\n",
    "        \n",
    "    m0, n0 = m, n # these values keep track of our initial m and n, since we will be expressing the GCD in terms of these two\n",
    "    # Bezout's theorem: GCD = s*m + t*n\n",
    "    s1, t1 = 1, 0\n",
    "    s2, t2 = 0, 1 # these initialize our Bezout coefficients\n",
    "                  # m' = s1*m0 + t1*n0 = 1*m0 + 0*n0\n",
    "                  # n' = s2*m0 + t2*n0 = 0*m0 + 1*n0\n",
    "    loop = 0\n",
    "    print(f'To begin: a, b = {m}, {n} | (s1,t1) = ({s1},{t1}) | (s2,t2) = ({s2},{t2})')\n",
    "    print('_________________________________')\n",
    "    while n > 0:\n",
    "        loop += 1\n",
    "        print(f'Loop: {loop}')\n",
    "        k = m % n # \n",
    "        print(f'Our remainder, k = a % b = {m} % {n} = {k}')\n",
    "        q = m // n\n",
    "        print(f'Our quotient , q =a // b ={m} // {n} = {q}')\n",
    "        \n",
    "        m = n\n",
    "        n = k\n",
    "        print(f'Our new a, b = {m}, {n}')\n",
    "        s1_hat, t1_hat = s2, t2\n",
    "        print('s1_hat, t1_hat are placeholders/pointers for the old s2, t2 values before they are changed')\n",
    "        print(f's1_hat, t1_hat = (s2, t2) = ({s2}, {t2})\\n')\n",
    "        s2_hat, t2_hat = (s1 - q*s2), (t1 - q*t2)\n",
    "        print('s2_hat, t2_hat acquire the new calculated values and holds them')\n",
    "        print(f's2_hat, t2_hat = (s1 - q*s2), (t1 - q*t2) = ({s1 - q*s2}, {t1 - q*t2})\\n')\n",
    "        s1, t1 = s1_hat, t1_hat\n",
    "        print('s1, t1 acquires s2, t2')\n",
    "        print(f's1, t1 = (s1_hat, t1_hat) = ({s1_hat}, {t1_hat})\\n')\n",
    "        s2, t2 = s2_hat, t2_hat\n",
    "        print('s2, t2 are assigned s2_hat, t2_hat, readying them for the next iteration')\n",
    "        print(f's2, t2 = (s2_hat, t2_hat) = ({s2_hat}, {t2_hat})\\n')\n",
    "        print('-----------------------------')\n",
    "    \n",
    "    print(f'GCD({m0},{n0}) = {m}, Bezout Coefficients: s1, t1 = ({s1},{t1})')\n",
    "    print('The Bezout Theorem for our GCD can be written as:')\n",
    "    print(f'{m} = {s1} * {m0} + {t1} * {n0}')\n",
    "    return m, (s1, t1) # When using this algorithm, it's important to know that s1 corresponds to the Bezout coefficient of the LARGER INTEGER, and vice versa for t1 to the SMALLER\n",
    "\n",
    "print(EEA_debug(77, 14))"
   ]
  },
  {
   "cell_type": "code",
   "execution_count": 10,
   "metadata": {},
   "outputs": [
    {
     "name": "stdout",
     "output_type": "stream",
     "text": [
      "(13, (1, -3))\n",
      "(4, (17, -24))\n",
      "(1, (34, -55))\n",
      "(11, (10, -999))\n"
     ]
    }
   ],
   "source": [
    "#Book Problems\n",
    "# 41. EEA(26, 91) -- A: GCD = 13 | (s1, t1) = (1, -3)\n",
    "print(EEA(91, 26))\n",
    "#print(EEA_debug(26, 91))\n",
    "\n",
    "# 42. EEA(252, 356) -- A: GCD = 4 | (s1, t1) = (17, -24)\n",
    "print(EEA(356, 252))\n",
    "\n",
    "# 43. EEA(144, 89) -- A: GCD = 1 | (s1, t1) = (34, -55)\n",
    "print(EEA(144, 89))\n",
    "\n",
    "# 44. EEA(1001, 100001) -- A: GCD = 11 | (s1, t1) = (10, -999)\n",
    "print(EEA(100001, 1001))\n",
    "\n",
    "# When using this algorithm, it's important to remember that \n",
    "# s1 corresponds to the Bezout coefficient of the LARGER INTEGER, and vice versa for t1 to the SMALLER.\n",
    "# The print statements are modified to reflect this for readability purposes, but it does not matter what order you insert a and b into the function."
   ]
  },
  {
   "cell_type": "markdown",
   "metadata": {
    "tags": []
   },
   "source": [
    "Because of the way this algorithm is written, it's important to remember that:\n",
    "\n",
    "***s1* corresponds to the Bezout coefficient of the *LARGER INTEGER* and vice versa for *t1* to the *SMALLER*.**\n",
    "\n",
    "The print statements are modified to reflect this for readability purposes, but it does not matter what order you insert *a* and *b* into the function.\n",
    "\n",
    "EX: 44. EEA(1001, 100001) -- A: GCD = 11   |  (s1, t1) = (10, -999)\n",
    "\n",
    "    GCD(1001, 100001) =  11  = s1 * 100001 + t1 * 1001 = (10 * 100001) + (-999 * 1001) "
   ]
  },
  {
   "cell_type": "markdown",
   "metadata": {},
   "source": [
    "### 2.3\n",
    "#### Second tool set\n",
    "\n",
    "Here we will implement the meat of the RSA cryptosystem. The functions below will generate the public and private key pairs which will then be used to create a ciphertext using the public key and then decode the same using the pirvate key.\n",
    "\n"
   ]
  },
  {
   "cell_type": "code",
   "execution_count": 11,
   "metadata": {
    "tags": []
   },
   "outputs": [
    {
     "name": "stdout",
     "output_type": "stream",
     "text": [
      "n, e = 3551, 2447\n"
     ]
    }
   ],
   "source": [
    "def Find_Public_Key_e(p, q):\n",
    "    \"\"\"\n",
    "    Implement this function such that it takes 2 primes p and q.\n",
    "    \n",
    "    Use the gcd function previously defined.\n",
    "    \n",
    "    The function should return 2 elements as follows:\n",
    "    public key: n\n",
    "    public key: e\n",
    "    \n",
    "    \n",
    "    This function will run a loop to find e such \n",
    "    that e is relatively prime to (p - 1) (q - 1) \n",
    "    and not equal to p or q.\n",
    "    \"\"\"\n",
    "    import random # module will be used to randomly select an e to return from a soon to be populated list\n",
    "    \n",
    "    n = p*q\n",
    "    list_all = []\n",
    "    list_e_rel_prime_to_fi = []\n",
    "    \n",
    "    for i in range(2, (p-1)*(q-1)):\n",
    "        if i != p and i != q:  # we don't want an e that equals p or q\n",
    "            list_all.append(i) # populates a list of numbers 1 < e < (p-1)(q-1), not including p and q\n",
    "    # we don't want e to equal 1, and we need it to be less than (p-1)(q-1) for the EEA later.\n",
    "    \n",
    "    for num in list_all:\n",
    "        if Euclidean_Alg(num, (p-1)*(q-1)) == 1: # we only want to select an e that is rel prime to (p-1)(q-1)\n",
    "            list_e_rel_prime_to_fi.append(num)   # we populate a list of potential e's to use\n",
    "            \n",
    "                                                 #print(list_e_rel_prime_to_fi) # potential e's\n",
    "    \n",
    "    e = random.choice(list_e_rel_prime_to_fi) # randomly select a choice from our list of e's\n",
    "    #e = list_e_rel_prime_to_fi[-2]\n",
    "    \n",
    "    print(f'n, e = {n}, {e}')\n",
    "    return n, e\n",
    "n, e = Find_Public_Key_e(53, 67)\n",
    "            "
   ]
  },
  {
   "cell_type": "code",
   "execution_count": 12,
   "metadata": {},
   "outputs": [],
   "source": [
    "### DEBUG\n",
    "\n",
    "# EEA_debug(e, (53-1)*(67-1))"
   ]
  },
  {
   "cell_type": "code",
   "execution_count": 13,
   "metadata": {
    "tags": []
   },
   "outputs": [
    {
     "name": "stdout",
     "output_type": "stream",
     "text": [
      "m, Bezout = 1, (-1026, 1439) \n",
      "The inverse, d = 1439\n"
     ]
    }
   ],
   "source": [
    "def Find_Private_Key_d(e, p, q):\n",
    "    \"\"\"\n",
    "    Implement this method\n",
    "    to find the decryption exponent d such that\n",
    "    d is the modular inverse of e. \n",
    "    \n",
    "    This will use the Extended Euclidean Algorithm\n",
    "    \n",
    "    This function should return the following:\n",
    "    d: the decryption component.\n",
    "    \"\"\"\n",
    "    \n",
    "    m, Bezout = EEA(e, (p-1)*(q-1))\n",
    "    print(f'm, Bezout = {m}, {Bezout} ')\n",
    "    d = Bezout[1] # e is smaller than our quantity (p-1)(q-1). \n",
    "                  # Given how the algorithm is designed, we want to assign it the second Bezout Coefficient since the first one corresponds to the larger int.\n",
    "    while d < 0: # we do not want a negative inverse.\n",
    "                 # If the inverse is negative, we get a non-integer result that cannot be modded\n",
    "                 # To fix this, we keep adding the modulus, (p-1)(q-1), to d until it is positive\n",
    "                 # de = 1 mod ((p-1)(q-1))\n",
    "        d += ((p-1)*(q-1))\n",
    "            \n",
    "    print(f'The inverse, d = {d}')\n",
    "    return d\n",
    "\n",
    "d = Find_Private_Key_d(e, p=53, q=67)"
   ]
  },
  {
   "cell_type": "code",
   "execution_count": 14,
   "metadata": {
    "tags": []
   },
   "outputs": [
    {
     "name": "stdout",
     "output_type": "stream",
     "text": [
      "n = 3551\n",
      "e = 2447\n",
      "d = 1439\n",
      "\n",
      "Test Message: M = 1234\n",
      "\n",
      "Cipher, C = 3428\n",
      "\n",
      "Decryption, D = 1234\n",
      "D == M -- True\n"
     ]
    }
   ],
   "source": [
    "### Test Calculations ###\n",
    "print(f'n = {n}')\n",
    "print(f'e = {e}')\n",
    "print(f'd = {d}')\n",
    "print()\n",
    "\n",
    "### To encode, we use the form C = M**e mod n\n",
    "# FME(b=base=M, n=exponent=e, m=n)\n",
    "# To test, we'll pick an arbitrary M that is 4 digits long\n",
    "M = 1234\n",
    "print(f'Test Message: M = {M}\\n')\n",
    "C = FME(M, e, n)\n",
    "\n",
    "print(f'Cipher, C = {C}\\n')\n",
    "\n",
    "### To decode, we use the form C**d mod n = M**(e*d) mod n\n",
    "# FME(b=base=C, n=exponent=d, m=n)\n",
    "D = FME(C, d, n)\n",
    "print(f'Decryption, D = {D}')\n",
    "print(f'D == M -- {D == M}') # Returns True, we have successfully found an inverse that decrypts our messages\n"
   ]
  },
  {
   "cell_type": "markdown",
   "metadata": {},
   "source": [
    "### 3.\n",
    "#### Putting things all together.\n",
    "\n",
    "1. In this part, you will define two functions `Encode` and `Decode` which will use the public and private keys that you calculated using the above 2 functions in the second toolset.\n",
    "2. Using the public key, the `Encode` function will encode a message and generate the corresponding cipher_text.\n",
    "3. Using the private key, the `Decode` function will decode a cipher_text and recover the original message.\n",
    "\n"
   ]
  },
  {
   "cell_type": "code",
   "execution_count": 15,
   "metadata": {},
   "outputs": [],
   "source": [
    "def Encode(n, e, message):\n",
    "    \"\"\"\n",
    "    Here, the message will be a string of characters.\n",
    "    Use the function Convert_Text from \n",
    "    the basic tool set and get a list of numbers.\n",
    "    \n",
    "    Encode each of those numbers using n and e and\n",
    "    return the encoded cipher_text.\n",
    "    \"\"\"\n",
    "    int_list = Convert_Text(message) # This function converts every character in a string to an ASCII integer and inserts it into a list\n",
    "    cipher_text = []\n",
    "    \n",
    "    #print(int_list)\n",
    "    for M in int_list: # we iterate through each integer in the list M and encrypt it to a cipher code C\n",
    "        C = FME(M, e, n)\n",
    "        cipher_text.append(C)\n",
    "    \n",
    "    return cipher_text # we are returning a list of cipher values\n",
    "\n",
    "test_message = Encode(n, e, 'hello')"
   ]
  },
  {
   "cell_type": "code",
   "execution_count": 16,
   "metadata": {},
   "outputs": [
    {
     "name": "stdout",
     "output_type": "stream",
     "text": [
      "hello\n"
     ]
    }
   ],
   "source": [
    "def Decode(n, d, cipher_text):\n",
    "    \"\"\"\n",
    "    Here, the cipher_text will be a list of integers.\n",
    "    First, you will decrypt each of those integers using \n",
    "    n and d.\n",
    "    Later, you will need to use the function Convert_Num, that converts the integers to a string, \n",
    "    from the basic toolset to recover the original message as a string. \n",
    "    \n",
    "    \"\"\"\n",
    "    message_list = [] # we are now working backwards from the processing of Encoding\n",
    "                      # we still need to maintain a list of integer values, since we are inverting the encrypted numeric ASCII values\n",
    "    for C in cipher_text:\n",
    "        D = FME(C, d, n)\n",
    "        message_list.append(D)\n",
    "    \n",
    "    message = Convert_Num(message_list) # then we use the Convert Num function to revert the ASCII values back to a string character.\n",
    "    return message\n",
    "\n",
    "message = Decode(n, d, test_message)\n",
    "print(message)"
   ]
  },
  {
   "cell_type": "markdown",
   "metadata": {},
   "source": [
    "### 4.  RSA Demo:\n",
    "\n",
    "* Encode a message (including generating keys).\n",
    "\n",
    "* Publish your public key and message to Piazza.\n",
    "\n",
    "* Decode messages from Piazza.\n",
    "\n",
    "* Test!\n",
    "\n",
    "\n",
    "\n"
   ]
  },
  {
   "cell_type": "markdown",
   "metadata": {},
   "source": [
    "### The Introduction\n",
    "RSA is a method for exchanging information between two parties without any potential third party intercepting and stealing the exchanged information. RSA maintains this security by taking a string type message, converting its characters to ASCII values, and encrypting those values via a series of FME calculations that hide the message. We encode a message, *C* in the form $$ C = M^{e}  (mod n)$$\n",
    "where each character *M* is converted to a numeric code in ASCII that is then passed through this function and converted to an encrypted value. After receiving these encrypted messages, I possess a decryption key, d, that will invert the original function, returning the original message.\n",
    "\n",
    "The decryption functions takes the form $$C^{d} mod n = (M^{e})^{d} mod n$$ \n",
    "which returns the original ASCII values of the characters, which can then be iterated through and converted to string characters to reveal the encrypted message. \n",
    "\n",
    "### Selecting *n*, factored by two primes, *p* and *q*\n",
    "\n",
    "To begin our process of encrypting and sending messages, we first must derive a public key *n, e* and a corresponding private key *d*.\n",
    "\n",
    "To find a suitable *n*, we multiply two prime factors, *p* and *q*.\n",
    "\n"
   ]
  },
  {
   "cell_type": "code",
   "execution_count": 17,
   "metadata": {},
   "outputs": [],
   "source": [
    "# My Prime Numbers\n",
    "p = 53\n",
    "q = 67\n",
    "n = p * q # = 53 * 67 = 3551"
   ]
  },
  {
   "cell_type": "markdown",
   "metadata": {},
   "source": [
    "### Selecting a Public Key, *e*\n",
    "Next, we select an appropriate encryption key, *e*.\n",
    "\n",
    "*e* must meet the following criteria:\n",
    "1. *e* must not equal *p* nor *q*\n",
    "2. *e* must be relatively prime to the quantity *(p-1)(q-1)* -- i.e. the GCD(*e*, *(p-1)(q-1)*) = 1\n",
    "\n",
    "To test for relative primitivity, we use the Extended Euclidean Algorithm.\n",
    "With the defined **Find_Public_Key_e** function above, we generate an *e* using this technique and a randomizer to select an appropriate *e* from a list of populated values, but an **EEA_debug** function will be used confirm that the selected *e* satisfies these conditions."
   ]
  },
  {
   "cell_type": "code",
   "execution_count": 18,
   "metadata": {},
   "outputs": [
    {
     "name": "stdout",
     "output_type": "stream",
     "text": [
      "3551 3407\n"
     ]
    }
   ],
   "source": [
    "# Find Public Key, e\n",
    "\n",
    "#n, e = Find_Public_Key_e(p, q)\n",
    "\n",
    "#OR\n",
    "\n",
    "#e = Find_Public_Key_e(p, q)[1] -- e is the second value/idx 1 value returned\n",
    "\n",
    "# The function returns a randomized e from a list of potential e values. I am setting e for the purpose of this tutorial.\n",
    "\n",
    "n, e = 53*67, 3407\n",
    "print(n, e)\n"
   ]
  },
  {
   "cell_type": "markdown",
   "metadata": {},
   "source": [
    "To show that *e* is relatively prime to *(p-1)(q-1)*, we can use the Extended Euclidean Algorithm.\n",
    "\n",
    "The algorithm is already used in the function definition of finding a public key, but the steps for determining the relative primitivity of the two terms can be shown in terms of Bezout's Theorem, where the GCD of the two terms will be 1."
   ]
  },
  {
   "cell_type": "code",
   "execution_count": 19,
   "metadata": {},
   "outputs": [
    {
     "name": "stdout",
     "output_type": "stream",
     "text": [
      "To begin: a, b = 3432, 3407 | (s1,t1) = (1,0) | (s2,t2) = (0,1)\n",
      "_________________________________\n",
      "Loop: 1\n",
      "Our remainder, k = a % b = 3432 % 3407 = 25\n",
      "Our quotient , q =a // b =3432 // 3407 = 1\n",
      "Our new a, b = 3407, 25\n",
      "s1_hat, t1_hat are placeholders/pointers for the old s2, t2 values before they are changed\n",
      "s1_hat, t1_hat = (s2, t2) = (0, 1)\n",
      "\n",
      "s2_hat, t2_hat acquire the new calculated values and holds them\n",
      "s2_hat, t2_hat = (s1 - q*s2), (t1 - q*t2) = (1, -1)\n",
      "\n",
      "s1, t1 acquires s2, t2\n",
      "s1, t1 = (s1_hat, t1_hat) = (0, 1)\n",
      "\n",
      "s2, t2 are assigned s2_hat, t2_hat, readying them for the next iteration\n",
      "s2, t2 = (s2_hat, t2_hat) = (1, -1)\n",
      "\n",
      "-----------------------------\n",
      "Loop: 2\n",
      "Our remainder, k = a % b = 3407 % 25 = 7\n",
      "Our quotient , q =a // b =3407 // 25 = 136\n",
      "Our new a, b = 25, 7\n",
      "s1_hat, t1_hat are placeholders/pointers for the old s2, t2 values before they are changed\n",
      "s1_hat, t1_hat = (s2, t2) = (1, -1)\n",
      "\n",
      "s2_hat, t2_hat acquire the new calculated values and holds them\n",
      "s2_hat, t2_hat = (s1 - q*s2), (t1 - q*t2) = (-136, 137)\n",
      "\n",
      "s1, t1 acquires s2, t2\n",
      "s1, t1 = (s1_hat, t1_hat) = (1, -1)\n",
      "\n",
      "s2, t2 are assigned s2_hat, t2_hat, readying them for the next iteration\n",
      "s2, t2 = (s2_hat, t2_hat) = (-136, 137)\n",
      "\n",
      "-----------------------------\n",
      "Loop: 3\n",
      "Our remainder, k = a % b = 25 % 7 = 4\n",
      "Our quotient , q =a // b =25 // 7 = 3\n",
      "Our new a, b = 7, 4\n",
      "s1_hat, t1_hat are placeholders/pointers for the old s2, t2 values before they are changed\n",
      "s1_hat, t1_hat = (s2, t2) = (-136, 137)\n",
      "\n",
      "s2_hat, t2_hat acquire the new calculated values and holds them\n",
      "s2_hat, t2_hat = (s1 - q*s2), (t1 - q*t2) = (409, -412)\n",
      "\n",
      "s1, t1 acquires s2, t2\n",
      "s1, t1 = (s1_hat, t1_hat) = (-136, 137)\n",
      "\n",
      "s2, t2 are assigned s2_hat, t2_hat, readying them for the next iteration\n",
      "s2, t2 = (s2_hat, t2_hat) = (409, -412)\n",
      "\n",
      "-----------------------------\n",
      "Loop: 4\n",
      "Our remainder, k = a % b = 7 % 4 = 3\n",
      "Our quotient , q =a // b =7 // 4 = 1\n",
      "Our new a, b = 4, 3\n",
      "s1_hat, t1_hat are placeholders/pointers for the old s2, t2 values before they are changed\n",
      "s1_hat, t1_hat = (s2, t2) = (409, -412)\n",
      "\n",
      "s2_hat, t2_hat acquire the new calculated values and holds them\n",
      "s2_hat, t2_hat = (s1 - q*s2), (t1 - q*t2) = (-545, 549)\n",
      "\n",
      "s1, t1 acquires s2, t2\n",
      "s1, t1 = (s1_hat, t1_hat) = (409, -412)\n",
      "\n",
      "s2, t2 are assigned s2_hat, t2_hat, readying them for the next iteration\n",
      "s2, t2 = (s2_hat, t2_hat) = (-545, 549)\n",
      "\n",
      "-----------------------------\n",
      "Loop: 5\n",
      "Our remainder, k = a % b = 4 % 3 = 1\n",
      "Our quotient , q =a // b =4 // 3 = 1\n",
      "Our new a, b = 3, 1\n",
      "s1_hat, t1_hat are placeholders/pointers for the old s2, t2 values before they are changed\n",
      "s1_hat, t1_hat = (s2, t2) = (-545, 549)\n",
      "\n",
      "s2_hat, t2_hat acquire the new calculated values and holds them\n",
      "s2_hat, t2_hat = (s1 - q*s2), (t1 - q*t2) = (954, -961)\n",
      "\n",
      "s1, t1 acquires s2, t2\n",
      "s1, t1 = (s1_hat, t1_hat) = (-545, 549)\n",
      "\n",
      "s2, t2 are assigned s2_hat, t2_hat, readying them for the next iteration\n",
      "s2, t2 = (s2_hat, t2_hat) = (954, -961)\n",
      "\n",
      "-----------------------------\n",
      "Loop: 6\n",
      "Our remainder, k = a % b = 3 % 1 = 0\n",
      "Our quotient , q =a // b =3 // 1 = 3\n",
      "Our new a, b = 1, 0\n",
      "s1_hat, t1_hat are placeholders/pointers for the old s2, t2 values before they are changed\n",
      "s1_hat, t1_hat = (s2, t2) = (954, -961)\n",
      "\n",
      "s2_hat, t2_hat acquire the new calculated values and holds them\n",
      "s2_hat, t2_hat = (s1 - q*s2), (t1 - q*t2) = (-3407, 3432)\n",
      "\n",
      "s1, t1 acquires s2, t2\n",
      "s1, t1 = (s1_hat, t1_hat) = (954, -961)\n",
      "\n",
      "s2, t2 are assigned s2_hat, t2_hat, readying them for the next iteration\n",
      "s2, t2 = (s2_hat, t2_hat) = (-3407, 3432)\n",
      "\n",
      "-----------------------------\n",
      "GCD(3432,3407) = 1, Bezout Coefficients: s1, t1 = (954,-961)\n",
      "The Bezout Theorem for our GCD can be written as:\n",
      "1 = 954 * 3432 + -961 * 3407\n",
      "(1, (954, -961))\n"
     ]
    }
   ],
   "source": [
    "# EEA_debug(e, (p-1)*(q-1))\n",
    "# e = 3407\n",
    "\n",
    "print(EEA_debug(3407, (p-1)*(q-1)))"
   ]
  },
  {
   "cell_type": "markdown",
   "metadata": {},
   "source": [
    "### Selecting a Private Key, *d*\n",
    "From the Extended Euclidean Algorithm above, we can also pick out the inverse of *e*, which is merely equal to the Bezout coefficient of our *e* term.\n",
    "\n",
    "Here, d = -961\n",
    "\n",
    "However, we must be wary of negative terms. Since both *e* and *d* are used exponentially to encrypt and decrypt our messages, we must be careful to not use a decryption key that is negative, or we will suffer errors due to modding resultant non-integer values.\n",
    "\n",
    "Since $$de = 1 mod (p-1)(q-1)$$\n",
    "\n",
    "we can still acquire a working inverse by adding the modulus *(p-1)(q-1)* to *d* until a positive integer is received. This step is taken care of in our **Find_Private_Key_d** function."
   ]
  },
  {
   "cell_type": "code",
   "execution_count": 20,
   "metadata": {},
   "outputs": [
    {
     "name": "stdout",
     "output_type": "stream",
     "text": [
      "m, Bezout = 1, (954, -961) \n",
      "The inverse, d = 2471\n",
      "2471\n"
     ]
    }
   ],
   "source": [
    "# Find Private Key, d\n",
    "# e = 3407\n",
    "# p = 53\n",
    "# q = 67\n",
    "d = Find_Private_Key_d(3407, 53, 67)\n",
    "print(d) # d = 2471"
   ]
  },
  {
   "cell_type": "markdown",
   "metadata": {},
   "source": [
    "### Encrypting a Hidden Message\n",
    "Now that we have our Public and Private Keys, the real fun begins.\n",
    "\n",
    "For my group, I encrypt the following message:\n",
    "\n",
    "###### What is a memorable quote from a movie, show, book, etc. that resonates with you?\n",
    "\n",
    "We first convert this text to a list of ASCII values using the **Convert_Text** function defined above."
   ]
  },
  {
   "cell_type": "code",
   "execution_count": 21,
   "metadata": {
    "scrolled": true
   },
   "outputs": [
    {
     "name": "stdout",
     "output_type": "stream",
     "text": [
      "[87, 104, 97, 116, 32, 105, 115, 32, 97, 32, 109, 101, 109, 111, 114, 97, 98, 108, 101, 32, 113, 117, 111, 116, 101, 32, 102, 114, 111, 109, 32, 97, 32, 109, 111, 118, 105, 101, 44, 32, 115, 104, 111, 119, 44, 32, 98, 111, 111, 107, 44, 32, 101, 116, 99, 46, 32, 116, 104, 97, 116, 32, 114, 101, 115, 111, 110, 97, 116, 101, 115, 32, 119, 105, 116, 104, 32, 121, 111, 117, 63]\n"
     ]
    }
   ],
   "source": [
    "message = \"What is a memorable quote from a movie, show, book, etc. that resonates with you?\"\n",
    "message_in_ASCII = Convert_Text(message)\n",
    "print(message_in_ASCII)"
   ]
  },
  {
   "cell_type": "markdown",
   "metadata": {},
   "source": [
    "Next, we encrypt these values using our **Encode** function, which uses our values of *n* and *e* and iterates through the list of values, returning a list of encrypted values.\n",
    "\n",
    "Each ASCII character value, *M*, is passed through a Fast Modular Exponentiation Function, **FME**, which converts each value *M* to a cipher value *C* in the form\n",
    "$$C = M^{e} (mod n)$$"
   ]
  },
  {
   "cell_type": "code",
   "execution_count": 22,
   "metadata": {
    "scrolled": true
   },
   "outputs": [
    {
     "name": "stdout",
     "output_type": "stream",
     "text": [
      "[1927, 1168, 574, 169, 2406, 3179, 433, 2406, 574, 2406, 1852, 2708, 1852, 949, 1423, 574, 1492, 1853, 2708, 2406, 2816, 2767, 949, 169, 2708, 2406, 1480, 1423, 949, 1852, 2406, 574, 2406, 1852, 949, 1843, 3179, 2708, 2959, 2406, 433, 1168, 949, 2822, 2959, 2406, 1492, 949, 949, 478, 2959, 2406, 2708, 169, 2272, 2749, 2406, 169, 1168, 574, 169, 2406, 1423, 2708, 433, 949, 1276, 574, 169, 2708, 433, 2406, 2822, 3179, 169, 1168, 2406, 227, 949, 2767, 593]\n"
     ]
    }
   ],
   "source": [
    "encrypted_message_in_ASCII = Encode(n, e, message)\n",
    "print(encrypted_message_in_ASCII)"
   ]
  },
  {
   "cell_type": "markdown",
   "metadata": {},
   "source": [
    "Now this message is hidden and is difficult to decipher without an inverse algorithm bringing the initial values back.\n",
    "\n",
    "To reverse engineer this message, we iterate through this encrypted list of integers with an inverted FME function in the form\n",
    "$$C^{d} mod(n)$$\n",
    "where *C* is an encrypted ASCII value, and *d* is the private key we defined above.\n",
    "\n",
    "This works because \n",
    "\n",
    "$$C^{d} = (M^{e})^{d} = M^{ed}$$\n",
    "\n",
    "And, since\n",
    "\n",
    "$$de = 1 mod (p-1)(q-1)$$\n",
    "\n",
    "Our term\n",
    "\n",
    "$$M^{ed} mod n = M$$"
   ]
  },
  {
   "cell_type": "code",
   "execution_count": 23,
   "metadata": {},
   "outputs": [
    {
     "name": "stdout",
     "output_type": "stream",
     "text": [
      "What is a memorable quote from a movie, show, book, etc. that resonates with you?\n"
     ]
    }
   ],
   "source": [
    "decrypted_message_in_ASCII = Decode(n, d, encrypted_message_in_ASCII)\n",
    "print(decrypted_message_in_ASCII)"
   ]
  },
  {
   "cell_type": "markdown",
   "metadata": {},
   "source": [
    "Thus, if anyone ever encrypts a message for me using my public key (*n*, *e*), I can decrypt it using my private key *d*."
   ]
  },
  {
   "cell_type": "markdown",
   "metadata": {},
   "source": [
    "### The \"Catch\"\n",
    "\n",
    "This example of our group exchanging fun messages misses an important point: **we're not supposed to share our private keys!**\n",
    "\n",
    "Ideally, only our public keys should suffice, since we would be encrypting messages using each other's respective public keys. It would not be necessary for me to know my friend's private key in order to communicate with them, since I have shared my public key as well. However, even through this experiment, we notice how our functions operate and successfully encrypt and decrypt our messages using our defined functions."
   ]
  },
  {
   "cell_type": "markdown",
   "metadata": {
    "tags": []
   },
   "source": [
    "### Function Arguments Glossary\n",
    "\n",
    "**Convert_Text(string)**\n",
    "\n",
    "Takes in a string of characters, outputs a list of integers corresponding to each character\n",
    "\n",
    "**Convert_Num(int_list)**\n",
    "\n",
    "Takes in a list of integers (corresponding to characters), returns a string of these characters\n",
    "\n",
    "**FME(b=base, n=exponent, m=modulus)**\n",
    "\n",
    "Returns x, where   *x = b^n % m*\n",
    "\n",
    "**Euclidean_Alg(a, b)**\n",
    "\n",
    "Returns the positive GCD of *a, b*\n",
    "\n",
    "**EEA(a, b)**\n",
    "\n",
    "Extended Euclidean Algorithm, returns the GCD of *a*, *b* as well as their Bezout coefficients, where \n",
    "\n",
    "*GCD = max(a,b) * s + min(a, b) * t*\n",
    "\n",
    "**Find_Public_Key_e(p, q)**\n",
    "\n",
    "Returns a modulus, *n=pq*, where *p* and *q* are prime numbers, and an *e* that is relatively prime to the quantity *(p-1)(q-1)*\n",
    "\n",
    "**Find_Private_Key_d(e, p, q)**\n",
    "\n",
    "Returns the inverse of *e*, called *d*\n",
    "\n",
    "**Encode(n, e, string)**\n",
    "\n",
    "Returns a list of integers encoding the string\n",
    "\n",
    "**Decode(n, d, int_list)**\n",
    "\n",
    "Returns a string converted from the list of integers"
   ]
  },
  {
   "cell_type": "markdown",
   "metadata": {},
   "source": [
    "### 5. Credits, Narratives, and Gratitude\n",
    "\n",
    "* Describe the results of SPECIFIC exchanging keys and codes with classmates. (at least 3 complete examples).\n",
    "\n",
    "* What was challenging? \n",
    "\n",
    "* Who helped you with your project? \n",
    "\n",
    "* Which resources were most helpful?\n",
    "\n",
    "* What was your Best Mistake, (funniest? most frustrating? the one you learned the most from?)\n",
    "\n",
    "* Again, be sure to include results and a discussion of specific exchanges with others.\n",
    "\n",
    "\n",
    "\n"
   ]
  },
  {
   "cell_type": "markdown",
   "metadata": {},
   "source": [
    "# The Message Exchange"
   ]
  },
  {
   "cell_type": "markdown",
   "metadata": {},
   "source": [
    "-----------------------------------------------\n",
    "***My Message to Piazza:***\n",
    "\n",
    "Public Key(n, e) = 3551, 3407\n",
    "\n",
    "Private Key(n, d)= 3551, 2471\n",
    "\n",
    "[1927, 1168, 574, 169, 2406, 3179, 433, 2406, 574, 2406, 1852, 2708, 1852, 949, 1423, 574, 1492, 1853, 2708, 2406, 2816, 2767, 949, 169, 2708, 2406, 1480, 1423, 949, 1852, 2406, 574, 2406, 1852, 949, 1843, 3179, 2708, 2959, 2406, 433, 1168, 949, 2822, 2959, 2406, 1492, 949, 949, 478, 2959, 2406, 2708, 169, 2272, 2749, 2406, 169, 1168, 574, 169, 2406, 1423, 2708, 433, 949, 1276, 574, 169, 2708, 433, 2406, 2822, 3179, 169, 1168, 2406, 227, 949, 2767, 593]\n",
    "\n",
    "**What is a memorable quote from a movie, show, book, etc. that resonates with you?**\n",
    "\n",
    "Here, I encrypt my message and post it to a forum, along with my public and private keys.\n",
    "I subsequently decrypt a message sent back to me in response, encoded using my public key.\n"
   ]
  },
  {
   "cell_type": "code",
   "execution_count": 24,
   "metadata": {},
   "outputs": [
    {
     "name": "stdout",
     "output_type": "stream",
     "text": [
      "What is a memorable quote from a movie, show, book, etc. that resonates with you? \n",
      "\n"
     ]
    }
   ],
   "source": [
    "n = 3551\n",
    "e = 3407\n",
    "d = 2471\n",
    "message = \"What is a memorable quote from a movie, show, book, etc. that resonates with you?\"\n",
    "encrypted_message = Encode(n, e, message)\n",
    "print(Decode(n, d, encrypted_message), '\\n')"
   ]
  },
  {
   "cell_type": "code",
   "execution_count": 25,
   "metadata": {
    "scrolled": true
   },
   "outputs": [
    {
     "name": "stdout",
     "output_type": "stream",
     "text": [
      "La mala educación\n"
     ]
    }
   ],
   "source": [
    "#An encrypted response decrypted\n",
    "Tyler_encrypted = [2839, 574, 2406, 1852, 574, 1853, 574, 2406, 2708, 3121, 2767, 2272, 574, 2272, 3179, 1718, 1276]\n",
    "print(Decode(n, d, Tyler_encrypted))"
   ]
  },
  {
   "cell_type": "markdown",
   "metadata": {},
   "source": [
    "----------------------------------------------------\n",
    "**Professor Stade:**\n",
    "\n",
    "Public key (n,e) = (5251, 3)\n",
    "\n",
    "Private key (n,d) = (5251, 3403)\n",
    "\n",
    "Encoded message = [2128, 1150, 4250, 1349, 1262, 3336, 2371, 2497, 519, 1262, 1263, 1105, 3336, 1349, 1262, 2310, 1105, 3336, 4115, 762, 2405, 1263, 1105, 3336, 1262, 1349, 1150, 1105, 1262, 506, 1105, 1105, 4723, 2405, 2497, 519, 1262, 1974, 2371, 58, 1262, 519, 1105, 1349, 1262, 4839, 1150, 1105, 2497, 1262, 1974, 2371, 58, 762, 1262, 13, 4679, 1573, 1262, 4115, 2371, 2310, 1105, 1262, 2405, 3336, 1262, 4839, 2371, 762, 1560, 2405, 2497, 519, 3250]\n",
    "\n",
    "What song best describes the feeling you get when your RSA code is working?"
   ]
  },
  {
   "cell_type": "code",
   "execution_count": 26,
   "metadata": {
    "tags": []
   },
   "outputs": [
    {
     "name": "stdout",
     "output_type": "stream",
     "text": [
      "What song best describes the feeling you get when your RSA code is working?\n"
     ]
    }
   ],
   "source": [
    "Stade_message = [2128, 1150, 4250, 1349, 1262, 3336, 2371, 2497, 519, 1262, 1263, 1105, 3336, 1349, 1262, 2310, 1105, 3336, 4115, 762, 2405, 1263, 1105, 3336, 1262, 1349, 1150, 1105, 1262, 506, 1105, 1105, 4723, 2405, 2497, 519, 1262, 1974, 2371, 58, 1262, 519, 1105, 1349, 1262, 4839, 1150, 1105, 2497, 1262, 1974, 2371, 58, 762, 1262, 13, 4679, 1573, 1262, 4115, 2371, 2310, 1105, 1262, 2405, 3336, 1262, 4839, 2371, 762, 1560, 2405, 2497, 519, 3250]\n",
    "decrypted_Stade = Decode(5251, 3403, Stade_message)\n",
    "print(decrypted_Stade)"
   ]
  },
  {
   "cell_type": "code",
   "execution_count": 27,
   "metadata": {},
   "outputs": [
    {
     "name": "stdout",
     "output_type": "stream",
     "text": [
      "Lowdown - Boz Scaggs\n"
     ]
    }
   ],
   "source": [
    "# My Response\n",
    "message_to_Stade = \"Lowdown - Boz Scaggs\"\n",
    "my_encrypted_response_to_Stade = Encode(5251, 3, message_to_Stade)\n",
    "#print(my_encrypted_response_to_Stade)\n",
    "my_decrypted_response_to_Stade = Decode(5251, 3403, my_encrypted_response_to_Stade)\n",
    "print(my_decrypted_response_to_Stade)"
   ]
  },
  {
   "cell_type": "markdown",
   "metadata": {},
   "source": [
    "----------------------------------------------------\n",
    "**Tyler K:**\n",
    "\n",
    "Public key (n,e) = (2573, 1301)\n",
    "\n",
    "Private key (n,d) = (2573, 641)\n",
    "\n",
    "Encoded message = [687, 148, 1151, 1356, 1496, 420, 1582, 772, 1913, 814, 1582, 772, 200, 1582, 2126, 772, 352, 12, 1582, 200, 1151, 935, 772, 12, 2129, 1356, 814, 1582, 667, 814, 1356, 200, 1503, 2129, 957, 1582, 420, 148, 772, 2300, 420, 1148]"
   ]
  },
  {
   "cell_type": "code",
   "execution_count": 28,
   "metadata": {},
   "outputs": [
    {
     "name": "stdout",
     "output_type": "stream",
     "text": [
      "What's one of your favorite Netflix shows?\n"
     ]
    }
   ],
   "source": [
    "Tyler_message = [687, 148, 1151, 1356, 1496, 420, 1582, 772, 1913, 814, 1582, 772, 200, 1582, 2126, 772, 352, 12, 1582, 200, 1151, 935, 772, 12, 2129, 1356, 814, 1582, 667, 814, 1356, 200, 1503, 2129, 957, 1582, 420, 148, 772, 2300, 420, 1148]\n",
    "decrypted_Tyler = Decode(2573, 641, Tyler_message)\n",
    "print(decrypted_Tyler)"
   ]
  },
  {
   "cell_type": "code",
   "execution_count": 29,
   "metadata": {
    "scrolled": true,
    "tags": []
   },
   "outputs": [
    {
     "name": "stdout",
     "output_type": "stream",
     "text": [
      "I absolutely loved the Queen's Gambit! It not only highlights one of my favorite games, but the story was also so emotionally moving.\n"
     ]
    }
   ],
   "source": [
    "# My Response\n",
    "message_to_Tyler = \"I absolutely loved the Queen's Gambit! It not only highlights one of my favorite games, but the story was also so emotionally moving.\"\n",
    "my_encrypted_response_to_Tyler = Encode(2573, 1301, message_to_Tyler)\n",
    "#print(my_encrypted_response_to_Tyler)\n",
    "my_decrypted_response_to_Tyler = Decode(2573, 641, my_encrypted_response_to_Tyler)\n",
    "print(my_decrypted_response_to_Tyler)"
   ]
  },
  {
   "cell_type": "markdown",
   "metadata": {},
   "source": [
    "### What was challenging? What were some mistakes?\n",
    "Some of my more challenging moments came especially in understanding the mathematics of the algorithms being used. Encoding FME was a tricky process because I had to think about how I was acquiring my exponential increments differently, and converting either the base or the exponent to binary is a neat means of accomplishing this task.\n",
    "\n",
    "The Extended Euclidean Algorithm was also a challenge. Much of acquiring the Bezout linear representation of two integers done by hand involves running through the EA once, and then working backwards to acquire the linear representation with appropriate coefficients. But the algorithm we designed keeps track of coefficients by switching out old ones with newly calculated ones. Another problem I ran into with this algorithm was picking out the inverse of the public key. For a time, I was pulling the incorrect coefficient, forgetting that I designed my algorithm in such a way to return the correct coefficient every time, as well as modifying it in such a way in the event it was negative.\n",
    "\n",
    "Because my public key algorithm randomly selects an appropriate e to use, it was increasingly important that I maintain organization of my keys and messages. I made errors including posting incorrect ciphers with mismatched keys because I didn't keep track of the appropriate *e* keys. \n",
    "\n",
    "Overall, I'm happy with the progress I have made. I feel I was pushed to my extent, and for it I learned so much regarding Number Theory and applications of Cryptography. "
   ]
  },
  {
   "cell_type": "markdown",
   "metadata": {},
   "source": [
    "### Which resources were most helpful?\n",
    "\n",
    "* Discrete Mathematics 7th Ed, Rosen -- very helpful in explaining number theory concepts in great detail, and provides algorithmic examples for FME and the Extended Euclidean Algorithm. The text also goes into great detail regarding RSA, and the various number theories surrounding it, including modular arithmetic congruences, Bezout's Theorem, Fermat's Little Theorem, the Chinese Remainder Theorem, and qualities of prime and relatively prime numbers.\n"
   ]
  },
  {
   "cell_type": "markdown",
   "metadata": {},
   "source": [
    "### Who helped you with your project?\n",
    "\n",
    "I would like to thank:\n",
    "* Abdullah A -- Abdullah and I evaluated each other's codes during the encoding and decoding processes. We challenged each other to look more closely at our FME functions for errors, and to understand the process of FME in the context of our other RSA functions. He was also resourceful in leading me to understand how a main function works and why it is useful.\n",
    "* Tyler K -- Tyler's initiative in the beginning weeks of the project assignment prompted me to keep a level head and a steady pace. Tyler has been looking out for my well being and progress on this assignment, notifying me of my errors, and challenged me to be a better programmer and colleague. Tyler has been very kind to me, and I'm happy to say I've made a friend during my time working on this assignment. \n",
    "* Dr. Stade -- For pushing us to be better programmers and logicians.\n",
    "* Anyone that decoded my Monty PYTHON antics"
   ]
  },
  {
   "cell_type": "markdown",
   "metadata": {},
   "source": [
    "### 6. FME Exploration\n",
    "\n",
    "\n",
    "\n",
    "* Explain in detail why RSA needs to use an FME function and cannot just simply use the Python Mod function % .\n"
   ]
  },
  {
   "cell_type": "markdown",
   "metadata": {},
   "source": [
    "RSA requires the use of FME to perform the calculations that it makes.\n",
    "\n",
    "The value of multiplying two integers mod *n* takes the form:\n",
    "\n",
    "**ab mod n = ((a mod n)*(b mod n)) mod n**\n",
    "\n",
    "Considering the multiplication of a value *a* multiplied by itself *n* times, the definition of exponents, we make *n-1* multiplications. An algorithm of this design has a Big O runtime of *O(n)*\n",
    "\n",
    "Using the method of Fast Modular Exponentiation, we only multiply those values of *a<sup>n* that we need, resulting in a Big O runtime of *O(log n)*"
   ]
  },
  {
   "cell_type": "markdown",
   "metadata": {},
   "source": [
    "#### Example\n",
    "\n",
    "Take the example:\n",
    "\n",
    "$$2^{13}mod7$$\n",
    "    \n",
    "We can solve the problem by multiplying each exponent through:\n",
    "    \n",
    "$$2^{13} = (2 * 2 * 2 * ... * 2) mod 7$$ (12 multiplications of 2*2)\n",
    "    \n",
    "Here, we have to make n-1 multiplications up to our exponent.\n",
    "    \n",
    "Instead, we could multiply values of 2^n that we already know:\n",
    "    \n",
    "$$2^{1} = 2$$\n",
    "$$2^{2} = 2^1 * 2^1 = 2 * 2   = 4$$\n",
    "$$2^{4} = 2^2 * 2^2 = 4 * 4   = 16$$\n",
    "$$2^{8} = 2^4 * 2^4 = 16 * 16 = 256$$\n",
    "\n",
    "By this example, we can acquire the expression:\n",
    "    \n",
    "    2^13 mod 7 = (2^8 * 2^4 * 2^1) mod 7 = (256 * 16 * 2) mod 7\n",
    "                                         = ((256 mod 7) * (16 mod 7) * (2 mod 7)) mod 7\n",
    "                                         = (4 * 2 * 2) mod 7\n",
    "                                         = 16 mod 7 = 2\n",
    "    \n",
    "This way, we simplify our calculation by making only *log n* multiplications, a runtime of *O(log n)*, making this algorithm more efficient than the one above with *O(n)*.\n",
    "    \n",
    "For these examples, the value of the exponent is rather small. But, FME truly matters for when both the exponent and our prime numbers, *p* and *q*, are very large.\n",
    "    \n",
    "    \n",
    "    "
   ]
  },
  {
   "cell_type": "markdown",
   "metadata": {},
   "source": [
    "## 7. CODE BREAKING ##\n",
    "\n",
    "\n",
    "**Implementing a factoring algorithm:**\n",
    "\n",
    "Begin by coding the basic brute force factorization algorithm given in pseudocode below.\n",
    "\n",
    "Brute Force Factoring\n",
    "<pre><code>def factorize(n):\n",
    "    # n is a number, return the smallest factor of n\n",
    "    for i from 2 to n-1:\n",
    "        if i divides n:\n",
    "            return i\n",
    "        return FALSE\n",
    "        </code></pre>\n"
   ]
  },
  {
   "cell_type": "code",
   "execution_count": 30,
   "metadata": {},
   "outputs": [],
   "source": [
    "## Brute Force Factoring\n",
    "def factorize(n):\n",
    "    # n is a number, return the smallest factor of n\n",
    "    for i in range(2, n):\n",
    "        if n % i == 0:\n",
    "            return i\n",
    "        else:\n",
    "            continue\n",
    "    return False\n",
    "# this function returns only one factor, p\n",
    "# q = n // p"
   ]
  },
  {
   "cell_type": "markdown",
   "metadata": {},
   "source": [
    "The factorize function intends to determine the prime factors that make up *n*: *p* and *q*.\n",
    "\n",
    "Knowing *p* and *q*, and the public key, *e*, we can find the inverse of *e*, *d*, with the Extended Euclidean Algorithm, using *EEA(e, (p-1)(q-1))*.\n",
    "\n",
    "The factorize function above returns only one factor of *n*. Using it, we can determine the other factor:\n",
    "$$q = n / p$$\n",
    "\n",
    "The drawback to using the brute force algorithm above is that has a slow runtime of *O(n)*. We progress through an entire list of (2 through n-1)  integers to find a factor. This is alright for small *n*, like *n = 703*, but we run into a problem using larger *n* consisting of several digits, such as:\n",
    "\n",
    "$$n = 2502544573533092740510801663020792864428158057839583159672553599283595483251193420697025047683920977$$\n",
    "\n",
    "For an integer of this length, and to create a subsequent list of integers to iterate through, this process would take a very long time to factorize and crack the code, which illustrates the effectiveness of RSA cryptography. "
   ]
  },
  {
   "cell_type": "markdown",
   "metadata": {},
   "source": [
    "Let's start with a small value for *n*.\n",
    "\n",
    "**Professor Stade**\n",
    "\n",
    "Public key: [703, 113]\n",
    "\n",
    "Cipher:\n",
    "\n",
    "[544, 472, 233, 242, 250, 555, 591, 550, 376, 364, 210, 165, 526, 47, 555, 95, 476, 210, 242, 165, 95, 233, 526, 210, 376, 95, 233, 242, 364, 210, 242, 224, 376, 95, 364, 233, 47, 242, 210, 555, 376, 165, 472, 242, 555, 410, 242, 250, 95, 233, 233, 47, 145]"
   ]
  },
  {
   "cell_type": "code",
   "execution_count": 31,
   "metadata": {
    "scrolled": true
   },
   "outputs": [
    {
     "name": "stdout",
     "output_type": "stream",
     "text": [
      "p = 19\n",
      "q = 37\n"
     ]
    }
   ],
   "source": [
    "# Determine p\n",
    "import time\n",
    "n = 703\n",
    "p = factorize(n)\n",
    "print(f'p = {p}')\n",
    "\n",
    "# Determine q\n",
    "q = n // p\n",
    "print(f'q = {q}')"
   ]
  },
  {
   "cell_type": "code",
   "execution_count": 32,
   "metadata": {},
   "outputs": [
    {
     "name": "stdout",
     "output_type": "stream",
     "text": [
      "d = 281\n"
     ]
    }
   ],
   "source": [
    "# Determine the inverse of e\n",
    "# EEA(e, (p-1)*(q-1))\n",
    "e = 113\n",
    "n = 703\n",
    "p = 19\n",
    "q = 37\n",
    "\n",
    "d = EEA(e, (p-1)*(q-1))[1][1]\n",
    "\n",
    "print(f'd = {d}')"
   ]
  },
  {
   "cell_type": "code",
   "execution_count": 33,
   "metadata": {},
   "outputs": [
    {
     "name": "stdout",
     "output_type": "stream",
     "text": [
      "The Conquistador's treasure is buried south of Creed. \n",
      "\n",
      "I'm going to south of Creed right after this project!\n",
      "On my way to start digging!\n"
     ]
    }
   ],
   "source": [
    "# \"Hack\" the Cipher\n",
    "Stade_cipher = [544, 472, 233, 242, 250, 555, 591, 550, 376, 364, 210, 165, 526, 47, 555, 95, 476, 210, 242, 165, 95, 233, 526, 210, 376, 95, 233, 242, 364, 210, 242, 224, 376, 95, 364, 233, 47, 242, 210, 555, 376, 165, 472, 242, 555, 410, 242, 250, 95, 233, 233, 47, 145]\n",
    "Stade_cipher_decrypted = Decode(n, d, Stade_cipher)\n",
    "print(Stade_cipher_decrypted, '\\n')\n",
    "message_1 = [517, 476, 523, 242, 88, 555, 364, 591, 88, 242, 165, 555, 242, 210, 555, 376, 165, 472, 242, 555, 410, 242, 250, 95, 233, 233, 47, 242, 95, 364, 88, 472, 165, 242, 526, 410, 165, 233, 95, 242, 165, 472, 364, 210, 242, 519, 95, 555, 501, 233, 511, 165, 86]\n",
    "print(Decode(n, d, message_1))\n",
    "message_2 = [91, 591, 242, 523, 581, 242, 541, 526, 581, 242, 165, 555, 242, 210, 165, 526, 95, 165, 242, 47, 364, 88, 88, 364, 591, 88, 86]\n",
    "print(Decode(n, d, message_2))"
   ]
  },
  {
   "cell_type": "code",
   "execution_count": 34,
   "metadata": {
    "scrolled": true
   },
   "outputs": [
    {
     "name": "stdout",
     "output_type": "stream",
     "text": [
      "[182, 541, 364, 88, 88, 364, 165, 581, 242, 210, 541, 555, 555, 88, 364, 165, 581, 157, 242, 511, 555, 523, 364, 591, 88, 242, 410, 555, 95, 242, 165, 472, 526, 165, 242, 224, 555, 555, 165, 581, 86, 242, 373, 95, 95, 95, 95, 95, 95, 95, 86, 86, 86]\n"
     ]
    }
   ],
   "source": [
    "# My response\n",
    "my_message = \"Swiggity swoogity, coming for that booty! Arrrrrrr!!!\"\n",
    "message_encrypted = Encode(n, e, my_message)\n",
    "print(message_encrypted)"
   ]
  },
  {
   "cell_type": "markdown",
   "metadata": {},
   "source": [
    "**Tyler K**\n",
    "\n",
    "Public key: [35410420551882037, 6261685121731019]\n",
    "\n",
    "Cipher: [27025035782801384, 23653307574783815, 34079354033833847, 6814393389522595, 8444960486632908, 27848767675129628, 23653307574783815, 34079354033833847, 28223106449433445, 10568301873159806, 34079354033833847, 33880854453274404, 27848767675129628, 17016128337370349, 1965614606561690, 33316170138350166, 34079354033833847, 17693603311903714, 10568301873159806, 8444960486632908, 27848767675129628, 34079354033833847, 30986364567350501, 13952953732879381, 32230518287340465, 31932198323270079, 28223106449433445, 17016128337370349, 1965614606561690, 23653307574783815, 25610887864979617]"
   ]
  },
  {
   "cell_type": "code",
   "execution_count": 35,
   "metadata": {},
   "outputs": [],
   "source": [
    "# Determine p\n",
    "n = 35410420551882037\n",
    "#p = factorize(n)\n",
    "#print(f'p = {p}')\n",
    "\n",
    "# Determine q\n",
    "#q = n // p\n",
    "#print(f'q = {q}')"
   ]
  },
  {
   "cell_type": "code",
   "execution_count": 36,
   "metadata": {},
   "outputs": [
    {
     "name": "stdout",
     "output_type": "stream",
     "text": [
      "m, Bezout = 1, (1980337804902980, -11198997132436141) \n",
      "The inverse, d = 24211423023593375\n",
      "d = 24211423023593375\n"
     ]
    }
   ],
   "source": [
    "# Determine the inverse of e\n",
    "# EEA(e, (p-1)*(q-1))\n",
    "e = 6261685121731019\n",
    "p = 136571683\n",
    "q = 259280839\n",
    "\n",
    "d = Find_Private_Key_d(e, p, q)\n",
    "\n",
    "print(f'd = {d}')"
   ]
  },
  {
   "cell_type": "code",
   "execution_count": 37,
   "metadata": {},
   "outputs": [
    {
     "name": "stdout",
     "output_type": "stream",
     "text": [
      "Be sure to drink your Ovaltine! \n",
      "\n",
      "A crummy commercial! \n",
      "\n",
      "Welcome to the Little Orphan Annie Club! :-D \n",
      "\n",
      "Thanks for the reminder. It was worth the wait. \n",
      "\n"
     ]
    }
   ],
   "source": [
    "# \"Hack\" the Cipher\n",
    "Tyler_cipher = [27025035782801384, 23653307574783815, 34079354033833847, 6814393389522595, 8444960486632908, 27848767675129628, 23653307574783815, 34079354033833847, 28223106449433445, 10568301873159806, 34079354033833847, 33880854453274404, 27848767675129628, 17016128337370349, 1965614606561690, 33316170138350166, 34079354033833847, 17693603311903714, 10568301873159806, 8444960486632908, 27848767675129628, 34079354033833847, 30986364567350501, 13952953732879381, 32230518287340465, 31932198323270079, 28223106449433445, 17016128337370349, 1965614606561690, 23653307574783815, 25610887864979617]\n",
    "Tyler_cipher_decrypted = Decode(n, d, Tyler_cipher)\n",
    "print(Tyler_cipher_decrypted, '\\n')\n",
    "message_1 = [35275818606301572, 34079354033833847, 11665759677127180, 27848767675129628, 8444960486632908, 7773878486265059, 7773878486265059, 17693603311903714, 34079354033833847, 11665759677127180, 10568301873159806, 7773878486265059, 7773878486265059, 23653307574783815, 27848767675129628, 11665759677127180, 17016128337370349, 32230518287340465, 31932198323270079, 25610887864979617]\n",
    "print(Decode(n, d, message_1), '\\n')\n",
    "message_2 = [14521436558942295, 23653307574783815, 31932198323270079, 11665759677127180, 10568301873159806, 7773878486265059, 23653307574783815, 34079354033833847, 28223106449433445, 10568301873159806, 34079354033833847, 28223106449433445, 27721245262570843, 23653307574783815, 34079354033833847, 8431320586508864, 17016128337370349, 28223106449433445, 28223106449433445, 31932198323270079, 23653307574783815, 34079354033833847, 30986364567350501, 27848767675129628, 9268813846768883, 27721245262570843, 32230518287340465, 1965614606561690, 34079354033833847, 35275818606301572, 1965614606561690, 1965614606561690, 17016128337370349, 23653307574783815, 34079354033833847, 32859352485545223, 31932198323270079, 8444960486632908, 32635052081056079, 25610887864979617, 34079354033833847, 18215921049652557, 20503364117870846, 8880296324834311]\n",
    "print(Decode(n, d, message_2), '\\n')\n",
    "message_3 = [34059297722181729, 27721245262570843, 32230518287340465, 1965614606561690, 33316170138350166, 6814393389522595, 34079354033833847, 26916945167378873, 10568301873159806, 27848767675129628, 34079354033833847, 28223106449433445, 27721245262570843, 23653307574783815, 34079354033833847, 27848767675129628, 23653307574783815, 7773878486265059, 17016128337370349, 1965614606561690, 33880854453274404, 23653307574783815, 27848767675129628, 19714417360696798, 34079354033833847, 15431256048307347, 28223106449433445, 34079354033833847, 24221255596332141, 32230518287340465, 6814393389522595, 34079354033833847, 24221255596332141, 10568301873159806, 27848767675129628, 28223106449433445, 27721245262570843, 34079354033833847, 28223106449433445, 27721245262570843, 23653307574783815, 34079354033833847, 24221255596332141, 32230518287340465, 17016128337370349, 28223106449433445, 19714417360696798]\n",
    "print(Decode(n, d, message_3), '\\n')"
   ]
  },
  {
   "cell_type": "code",
   "execution_count": 38,
   "metadata": {},
   "outputs": [
    {
     "name": "stdout",
     "output_type": "stream",
     "text": [
      "[25023678024292002, 17016128337370349, 165605175995179, 34079354033833847, 32230518287340465, 34079354033833847, 6814393389522595, 9268813846768883, 10568301873159806, 10568301873159806, 1965614606561690, 26916945167378873, 8444960486632908, 31932198323270079, 34079354033833847, 10568301873159806, 26916945167378873, 34079354033833847, 25023678024292002, 23653307574783815, 28223106449433445, 32230518287340465, 7773878486265059, 8444960486632908, 11665759677127180, 17016128337370349, 31932198323270079, 34079354033833847, 28223106449433445, 10568301873159806, 34079354033833847, 33316170138350166, 23653307574783815, 23653307574783815, 9268813846768883, 34079354033833847, 28223106449433445, 27721245262570843, 23653307574783815, 34079354033833847, 9268813846768883, 17016128337370349, 9268813846768883, 23653307574783815, 6814393389522595, 34079354033833847, 11665759677127180, 31932198323270079, 23653307574783815, 32230518287340465, 27848767675129628, 25610887864979617]\n"
     ]
    }
   ],
   "source": [
    "# My response\n",
    "my_message = \"Mix a spoonful of Metamucil to keep the pipes clear!\"\n",
    "my_message_encrypted = Encode(n, e, my_message)\n",
    "print(my_message_encrypted)"
   ]
  },
  {
   "cell_type": "markdown",
   "metadata": {},
   "source": [
    "### My Code to Crack"
   ]
  },
  {
   "cell_type": "code",
   "execution_count": 39,
   "metadata": {},
   "outputs": [
    {
     "name": "stdout",
     "output_type": "stream",
     "text": [
      "m, Bezout = 1, (246746, -609841) \n",
      "The inverse, d = 3567839\n"
     ]
    }
   ],
   "source": [
    "p = 1031\n",
    "q = 4057\n",
    "e = 1690319\n",
    "#print(factorize(p))\n",
    "#print(factorize(q))\n",
    "#n, e = Find_Public_Key_e(p, q)\n",
    "d = Find_Private_Key_d(e, p, q)"
   ]
  },
  {
   "cell_type": "code",
   "execution_count": 40,
   "metadata": {},
   "outputs": [
    {
     "name": "stdout",
     "output_type": "stream",
     "text": [
      "[2187474, 2164060, 1814081, 2164060, 1524456, 2517607, 1814081, 2517607, 979048, 3110313, 2517607, 518292, 4086418, 527853, 1814081, 4086418, 1541372, 2517607, 1814081, 1772795, 3110313, 778876, 1524456, 745612, 527853, 1541372, 1814081, 347101, 1524456, 847187, 164557, 745612, 527853, 745612, 4086418, 745612, 2164060, 1524456, 313892]\n"
     ]
    }
   ],
   "source": [
    "n = 4182767\n",
    "e = 1690319\n",
    "d = 3567839\n",
    "message = \"No one expects the Spanish Inquisition.\"\n",
    "monty_python_encryption = Encode(n, e, message)\n",
    "print(monty_python_encryption)"
   ]
  },
  {
   "cell_type": "code",
   "execution_count": 41,
   "metadata": {},
   "outputs": [
    {
     "name": "stdout",
     "output_type": "stream",
     "text": [
      "NII\n"
     ]
    }
   ],
   "source": [
    "### My Hacked Cipher! ###\n",
    "George_response = [2187474, 347101, 347101]\n",
    "George_response_decrypted = Decode(n, d, George_response)\n",
    "print(George_response_decrypted)\n",
    "\n",
    "# We are the Knights who say NII! -- Monty Python and the Holy Grail"
   ]
  },
  {
   "cell_type": "markdown",
   "metadata": {},
   "source": [
    "### Breaking the Codebreaker\n",
    "\n",
    "The next block below attempts to use an integer *n* with 100 digits"
   ]
  },
  {
   "cell_type": "code",
   "execution_count": 42,
   "metadata": {},
   "outputs": [
    {
     "name": "stdout",
     "output_type": "stream",
     "text": [
      "100\n"
     ]
    }
   ],
   "source": [
    "n = '2502544573533092740510801663020792864428158057839583159672553599283595483251193420697025047683920977'\n",
    "len_n = len(n)\n",
    "print(len_n)"
   ]
  },
  {
   "cell_type": "code",
   "execution_count": 43,
   "metadata": {},
   "outputs": [],
   "source": [
    "## DANGER, DO NOT RUN THIS CODE BLOCK ##\n",
    "# n = 2502544573533092740510801663020792864428158057839583159672553599283595483251193420697025047683920977\n",
    "# p = factorize(n)\n",
    "\n",
    "# This code block has a hard time running because of the sheer size of n. \n",
    "# It takes a very long time to iterate through all of the values less than n.\n",
    "\n",
    "# If this code block is run, the function takes a very long time to process, and locks down "
   ]
  },
  {
   "cell_type": "markdown",
   "metadata": {},
   "source": [
    "As the size of *n* grows, the **factorize** function takes longer to iterate through all values less than *n*.\n",
    "\n",
    "This illustrates a big O runtime of *O(n)*, and huge *n* like the above require lengthy computing times to process. "
   ]
  },
  {
   "cell_type": "markdown",
   "metadata": {},
   "source": [
    "\n",
    "## Custom Feature ##\n",
    "The last 15 points of the require a custom feature in your project. This is an opportinity for you to explore an RSA or coding topic of interest to you. At this point it is not about points, but exploring advanced ideas relevant to you.  This is also a feature that should be relevant to your programming ability. If you are in 1300, creating a main type function may be enough. If you are an experienced programmer, find a topic to push yourself. \n",
    "\n",
    "\n",
    "Custom Features could one or more of the following:\n",
    "\n",
    "1. A Python \"main\" function that allows a user to \"Get keys/Encode/Decode/Break Codes\" etc... \n",
    "2. An exploration of factoring improvements and analyze how effective they are. Must include some kind of timing analysis and multiple code breaking. A superficial treatment will not recieve full points. Must be throughly tested with excellent investigations to recieve full points.\n",
    "3. A script to read codes from Piazza data. You can copy and paste codes from Piazza into a txt files and then have your script read it. This is a VERY helpful tool for doing the project as well. \n",
    "4. Exploration of advanced factoring alogrithms (see Moodle) Try Pollard's Rho <- super satisfying. (full points if well - impemented with thoughtful examples)\n",
    "5. Advanced complexity analysis. \n",
    "6. Other options available, please ask. \n",
    "\n",
    "The Custom Feature is an important part of the project, and it should be a non-trivial response. \n",
    "Please help organize your Custom Feature by breaking it up into sections - ie. not one long block of text.\n",
    "Mininimally executed, \"dialling it in\" type features will not recieve full points. \n",
    "See below for more detials on grading of this section.\n",
    "\n",
    "\n",
    "\n",
    " \n",
    "\n",
    "\n"
   ]
  },
  {
   "cell_type": "code",
   "execution_count": 44,
   "metadata": {},
   "outputs": [],
   "source": [
    "### scratch pad ###\n",
    "#cipher_input = input('Enter cipher (list of integers): ')\n",
    "#cipher_input = cipher_input.lstrip('[').rstrip(']')\n",
    "#cipher_input = cipher_input.split(', ')\n",
    "#for i in range(len(cipher_input)):\n",
    "    #cipher_input[i] = int(cipher_input[i])\n",
    "    #print(cipher_input[i])\n",
    "    \n",
    "#print(cipher_input)"
   ]
  },
  {
   "cell_type": "code",
   "execution_count": 46,
   "metadata": {
    "tags": []
   },
   "outputs": [
    {
     "name": "stdout",
     "output_type": "stream",
     "text": [
      "Welcome to RSA!\n",
      "By Andrew Hogan\n",
      "--------------------------------\n",
      "\n",
      "1. Set prime factors\n",
      "2. Get Public Key\n",
      "3. Get Private Key\n",
      "4. Encrypt Message\n",
      "5. Decrypt Message\n",
      "6. Codebreaker: Factorize input, n\n",
      "7. Set Values Manually (Only for encrypting messages to others)\n",
      "8. Reset Values\n",
      "9. EXIT\n",
      "\n"
     ]
    },
    {
     "name": "stdin",
     "output_type": "stream",
     "text": [
      "Enter a choice:  9\n"
     ]
    },
    {
     "name": "stdout",
     "output_type": "stream",
     "text": [
      "--------------------------------\n",
      "\n",
      "\n",
      "Thank you for using my RSA program!\n"
     ]
    }
   ],
   "source": [
    "def main():\n",
    "    #Import RSA package -- Import when the function file is separate from the main file\n",
    "    #import RSA\n",
    "    \n",
    "    #Greet the User, prompt for choice\n",
    "    print('Welcome to RSA!')\n",
    "    print('By Andrew Hogan')\n",
    "    print('--------------------------------\\n')\n",
    "    \n",
    "    #Initialize/Reset variables (Jupyter variables)\n",
    "    p = 0\n",
    "    q = 0\n",
    "    n = 0\n",
    "    e = 0\n",
    "    d = 0\n",
    "    choice = 0\n",
    "    message = ''\n",
    "    cipher_input = ''\n",
    "    \n",
    "    while choice < 9: # return to the top once choice has been cleared\n",
    "    \n",
    "        print('1. Set prime factors')\n",
    "        print('2. Get Public Key')\n",
    "        print('3. Get Private Key')\n",
    "        print('4. Encrypt Message')\n",
    "        print('5. Decrypt Message')\n",
    "        print('6. Codebreaker: Factorize input, n')\n",
    "        print('7. Set Values Manually (Only for encrypting messages to others)')\n",
    "        print('8. Reset Values')\n",
    "        print('9. EXIT\\n')\n",
    "        choice = int(input('Enter a choice: '))\n",
    "        print('--------------------------------\\n')\n",
    "        \n",
    "        if choice == 1:\n",
    "                try: # Assert functions offer a safer way to test for whether the entered factors p and q are prime. \n",
    "                     # If they are not, we simply return to the main menu\n",
    "                    p = int(input('Enter a prime factor, p: '))\n",
    "                    assert(factorize(p) == False)\n",
    "                    q = int(input('Enter a prime factor, q: '))\n",
    "                    assert(factorize(q) == False)\n",
    "                    print('Your prime numbers: \\n')\n",
    "                    print(f'p = {p}, q = {q}')\n",
    "                    #print(f'n = {n}\\n')\n",
    "                    print('--------------------------------\\n')\n",
    "                except AssertionError:\n",
    "                    print('p and q must be prime numbers!')\n",
    "                    print('If unsure, set p and q equal to 2')\n",
    "                    print('--------------------------------\\n')\n",
    "            \n",
    "            \n",
    "        if choice == 2:\n",
    "            if p and q: # using p and q, we set n and determine a value for e.\n",
    "                        # e is generated randomly, so it's important to keep up with it after this step.\n",
    "                n, e = Find_Public_Key_e(p, q)\n",
    "                print('--------------------------------\\n')\n",
    "            else:\n",
    "                print('Need prime factors, p and q, before continuing')\n",
    "                print('--------------------------------\\n')\n",
    "            \n",
    "        if choice == 3:\n",
    "            if e:\n",
    "                print('Using the following values to find a private key, d:')\n",
    "                print(f'p = {p}\\nq = {q}\\ne = {e}')\n",
    "                d = Find_Private_Key_d(e, p, q)\n",
    "                print('--------------------------------\\n')\n",
    "            else:\n",
    "                print('Need public key, e, before returning inverse, d')\n",
    "                print('Calculate n, e (2) or set n, e manually (7)')\n",
    "                print('--------------------------------\\n')\n",
    "        \n",
    "        if choice == 4:\n",
    "            if n and e:\n",
    "                print('Encrypting using:')\n",
    "                print(f'n = {n}\\ne = {e}\\n')\n",
    "                message = str(input('Enter a message: '))\n",
    "                encrypted_message = Encode(n, e, message)\n",
    "                print('Message encrypted as: ')\n",
    "                print(encrypted_message)\n",
    "                print('--------------------------------\\n')\n",
    "            else:\n",
    "                print('Function requires valid n and e to encode message')\n",
    "                print('Calculate n, e (2) or set n, e manually (7)')\n",
    "                print('--------------------------------\\n')\n",
    "        \n",
    "        if choice == 5:\n",
    "            if n and d:\n",
    "                try: # Since the input is a string by default, we have to clean and edit the data and effectively convert it to a list of integers.\n",
    "                    cipher_input = input('Enter cipher (list of integers): ')\n",
    "                    cipher_input = cipher_input.lstrip('[').rstrip(']').split(', ') # strip brackets, split on the comma and space\n",
    "                                                                                    # somewhat intuitive, as this is how we construct encrypted messages also\n",
    "                    for i in range(len(cipher_input)): # iterate through each string integer and convert it to an int type\n",
    "                        cipher_input[i] = int(cipher_input[i])\n",
    "                    assert(type(cipher_input) == type([])) # we want to make sure we've successfully converted to a list of integers\n",
    "                    decrypted_message = Decode(n, d, cipher_input)\n",
    "                    print(f'The decrypted message reads:\\n{decrypted_message}\\n')\n",
    "                    print('--------------------------------\\n')\n",
    "                except TypeError: # we can't convert letters to integers, so we must look out for type errors from input lists.\n",
    "                    print('Check cipher again. Not all values present are integers')\n",
    "                except AssertionError: # we might not even be able to convert the input at all, so we protect against this case\n",
    "                    print('Cipher must be a list of integer values')\n",
    "            else:\n",
    "                print('Function requires valid n and d to encode message')\n",
    "                print('Calculate n, e (2) or set n, e manually (7)')\n",
    "                print('If you have prime factors, p and q, calculate d (3)')\n",
    "                print('If n is small enough, use the codebreaker to find p and q (6)')\n",
    "                print('--------------------------------\\n')\n",
    "                \n",
    "        if choice == 6: # This is a codebreaking algorithm that attempts to deduce the factors, p and q, of n\n",
    "                        # It currently uses the brute force algorithm, but I would like to attempt to\n",
    "                        # incorpoprate Pollard's Rho.\n",
    "                        # For now, it does the trick for smaller values of n, but it does easily break with much larger values.\n",
    "            n = int(input(\"Enter input, n: \"))\n",
    "            e = int(input(\"Enter public key, e: \"))\n",
    "            p = factorize(n)\n",
    "            q = n // p\n",
    "            print(f'Factors of input, n = {n}:\\n')\n",
    "            print(f'p = {p}\\nq = {q}')\n",
    "            print('--------------------------------\\n')\n",
    "            \n",
    "        if choice == 7: # This option is used for receiving a public key from others\n",
    "                        # A note is made to indicate that this does not factor n, this is not codebreaking!\n",
    "            print('Use this option to encrypt messages to others.')\n",
    "            print('NOTE: This option DOES NOT set p and q. This is not codebreaking!')\n",
    "            n = int(input('Enter a value, n: '))\n",
    "            e = int(input('Enter a public key, e: '))\n",
    "            print(f'n = {n}\\ne = {e}')\n",
    "            print('--------------------------------\\n')\n",
    "            \n",
    "        \n",
    "        \n",
    "        if choice == 8: # in case things go awry, just reset variables\n",
    "                        # since several parts of the choices follow Boolean logic, \n",
    "                        # setting to 0 or a blank string is \"falsey\"\n",
    "            p = 0\n",
    "            q = 0\n",
    "            n = 0\n",
    "            e = 0\n",
    "            d = 0\n",
    "            choice = 0\n",
    "            message = ''\n",
    "            cipher_input = ''\n",
    "            print('Values reinitialized')\n",
    "            print('--------------------------------\\n')\n",
    "            \n",
    "        if choice == 9: # We need a way to exit our while loop and end the program. \n",
    "                        # Entering 9+ successfully closes the program.\n",
    "            print('\\nThank you for using my RSA program!')\n",
    "    \n",
    "\n",
    "if __name__ == '__main__':\n",
    "    main()\n",
    "    "
   ]
  },
  {
   "cell_type": "markdown",
   "metadata": {},
   "source": [
    "### Reflection ###\n",
    "\n",
    "I wasn't sure what I wanted to do with my custom feature at first. The __main__ feature didn't make sense to me at first, especially as it was something I had never done before, and the tutorials didn't indicate right away the purpose of them. I had some help to guide me along (Thank you Abdullah A), and I was excited to find that the main function essentially serves as a UI for my program! I had fun putting together prompts and weaving together the code I had previously written into something more akin to programs as we know and use them. I'm proud of my progress and that I've further learned something new about using Python. \n",
    "\n",
    "One thing I noticed about the way my main function is designed is that I would normally copy my functions into a separate file and import them into the primary program to cut down on clutter. Since this is a Jupyter notebook, I've omitted this step, but acknowledge it with comments in my code. One challenge I had was in decrypting the message, since I forgot that it would be initialized as a string and that I had to convert it to a list of integers first before my decoding function would work.\n",
    "\n",
    "I had a fun time designing the user interface for my program. I thought about several potential errors that could occur and did my best to predict and troubleshoot as many as could come. Since I try to keep in mind the \"average user\" for my program, there are bound to be several ways in which a user could break my program (and there still are!) I threw in some extra functions for flexibility purposes, such as manually entering public keys for the purpose of solely encrypting a message, and also for resetting values when new ones need to be generated.\n",
    "\n",
    "If I had more time to improve my main function, I would want to incorporate Pollard's Rho for my factorizing function. Since I was flip flopping on whether to use a main function, I started exploring Pollard's Rho and thought the concept of it was very interesting, and is something that I would like to venture into further in my free time. I found an algorithm for it, but have not used it since I don't entirely know how it works yet. But it exploits the fact that at least one factor of n is less than or equal to the square root of n, and then does a neat recursive method (Tortoise and Hare) to find two values whose difference is divisible by the factor. Overall, the algorithm is much more successful than the brute force one I've used. Another improvement I would make is to incorporate \"profiles\" using Python's OOP and Classes. This way, a user could instantiate a class object of a user profile containing their public and private keys so that it would make switching between the people you communicate with much easier, rather than having to manually enter public keys and resetting them constantly. e.g. Encode a message to Dr. Stade using her public keys, and decrypt the messages she sends me with my public and private keys that I've saved under her profile.\n",
    "\n",
    "If I could grade myself on the custom feature, I'd award myself 10 points. It's not the fanciest main function ever, the UI feels somewhat clunky for what it is, and there's plenty of ways to break the program. We are our own biggest critics, but I feel I learned something new and challenged myself to build upon something more extraordinary than I've ever thought to do on my own, and I had fun creating something that, should the parameters be obeyed, just about anyone could use. There's still so much more I could build upon with what I've started and I would like to revisit these ideas again. \n"
   ]
  },
  {
   "cell_type": "code",
   "execution_count": null,
   "metadata": {},
   "outputs": [],
   "source": []
  }
 ],
 "metadata": {
  "kernelspec": {
   "display_name": "Python 3 (ipykernel)",
   "language": "python",
   "name": "python3"
  },
  "language_info": {
   "codemirror_mode": {
    "name": "ipython",
    "version": 3
   },
   "file_extension": ".py",
   "mimetype": "text/x-python",
   "name": "python",
   "nbconvert_exporter": "python",
   "pygments_lexer": "ipython3",
   "version": "3.10.5"
  }
 },
 "nbformat": 4,
 "nbformat_minor": 4
}
